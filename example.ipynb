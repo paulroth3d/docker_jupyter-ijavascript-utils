{
 "cells": [
  {
   "cell_type": "markdown",
   "id": "4e0e9f75-0134-4df9-a075-0c194dd26035",
   "metadata": {},
   "source": [
    "This is a working example from [jupyter-ijavascript-utils](https://jupyter-ijavascript-utils.onrender.com/)\n",
    "\n",
    "The purpose of this library is to help people with a grasp of JavaScript to leverage leverage Jupyter Notebooks without having to learn Python.\n",
    "\n",
    "Notebooks are a way to explore and experiment, in addition to write and explain ideas.\n",
    "\n",
    "(Essentially, they are data driven documents with both formatted text married next to code that can show some output)"
   ]
  },
  {
   "cell_type": "markdown",
   "id": "bd30d199-444d-4772-9af5-af6d7b58aaa7",
   "metadata": {},
   "source": [
    "**All of the tutorials provided here, including this one, was written as a notebook and simply exported.**"
   ]
  },
  {
   "cell_type": "markdown",
   "id": "f150345a-e042-4e91-9c84-c305670929bf",
   "metadata": {},
   "source": [
    "![Screenshot](img/started_jupyterSideBySide.jpg)"
   ]
  },
  {
   "cell_type": "markdown",
   "id": "eb4210e9-218b-45e3-a654-378de67764ce",
   "metadata": {},
   "source": [
    "The document itself is a list of cells that can be either:\n",
    "* Text or Markdown (like this)\n",
    "* Or Code Results (NodeJS code in this case)\n",
    "\n",
    "![Screenshot of Animation](img/noiseFinal.gif)\n",
    "\n",
    "**note: You can choose whether to show the code or simply show the results.**\n",
    "\n",
    "*We often include the code for illustration purposes in these tutorials, but many documents we write do not show them at all.*"
   ]
  },
  {
   "cell_type": "markdown",
   "id": "d0782eeb-f9c3-42a2-bef2-0947bfceabd1",
   "metadata": {},
   "source": [
    "## This Library helps with the Coding Side of Things\n",
    "\n",
    "So you can focus on what you want to work on:\n",
    "\n",
    "* Loading Data\n",
    "* Manipulating and Refining into Information\n",
    "* Aggregating and Exploring\n",
    "* Formatting and Visualizing\n",
    "* and Exporting\n",
    "\n",
    "And as this uses [nriesco's iJavaScript Jupyter Kernel](http://n-riesco.github.io/ijavascript/), this can be one module of many npm modules as you grow.\n",
    "\n",
    "* Storing Secrets - like with [dotenv](https://www.npmjs.com/package/dotenv) or others\n",
    "* Working with Cloud Metadata - like with [jsforce](https://jsforce.github.io/)\n",
    "* More aggregation control - similar to Pandas with [Danfo.js](https://danfo.jsdata.org/), or [others](https://www.npmjs.com/package/dataframe-js)\n",
    "* Machine Learning - with GPU enabled TensorFlows with [tfjs](https://www.npmjs.com/package/@tensorflow/tfjs-node-gpu)\n",
    "* and many many others"
   ]
  },
  {
   "cell_type": "markdown",
   "id": "e1944006-d2ee-4429-b03a-09a37594ed71",
   "metadata": {},
   "source": [
    "Just to let out the air a little bit, notebooks don't give complete control over how it looks.\n",
    "\n",
    "While it also lets you run code, it is also not a full blown IDE (but [many IDEs even support it natively](https://code.visualstudio.com/docs/datascience/jupyter-notebooks))\n",
    "\n",
    "However, it gives you a great way to explore and share ideas.\n",
    "\n",
    "Come see if it might work for you."
   ]
  },
  {
   "cell_type": "markdown",
   "id": "3416f34d-b1b1-42e7-8e35-368cddd18c64",
   "metadata": {},
   "source": [
    "## Why not Python?\n",
    "\n",
    "Jupyter Lab (the latest interface for Jupyter), and many other notebooks are installed and even developed using Python.\n",
    "\n",
    "However, I've found quite a few people that would really get a benefit of working with Notebooks - but without having to also learn Python.\n",
    "\n",
    "For those JavaScript Developers that are looking to better understand Python, we developed a [Python for JavaScript Developers book here](https://github.com/paulroth3d/python-for-js-developers) - pull requests always welcome.\n",
    "\n",
    "Additionally, [ObservableHQ](https://observablehq.com/tutorials) provides a really great experience for those familiar with JavaScript - [although it isn't technically JavaScript](https://observablehq.com/@observablehq/observables-not-javascript) and also worth a look.\n",
    "\n",
    "For example: [Lionel Radisson's creative coding](https://observablehq.com/@makio135/creative-coding),\n",
    "and [many others](https://observablehq.com/explore)"
   ]
  },
  {
   "cell_type": "markdown",
   "id": "af60b1a8-3d77-408c-bade-68a1ef9ab1b8",
   "metadata": {},
   "source": [
    "## At first glance, notebooks can seem like pretty documentation"
   ]
  },
  {
   "cell_type": "code",
   "execution_count": null,
   "id": "fbb3bf4d-adca-4c9e-a456-974db1842a15",
   "metadata": {
    "tags": []
   },
   "outputs": [],
   "source": [
    "utils = require('jupyter-ijavascript-utils');\n",
    "['utils']"
   ]
  },
  {
   "cell_type": "markdown",
   "id": "aa80350e-4e48-4798-be6d-72a30af44432",
   "metadata": {},
   "source": [
    "The notebook is written as a collection of `cells` that essentially are either:\n",
    "\n",
    "* words to explain the concept\n",
    "* or bits of code that can execute and provide a result\n",
    "\n",
    "**(NOTE: Cells can be hidden or shown. They are shown here for clarity, but do not need to be)**\n",
    "\n",
    "![Screenshot of Cells in Jupyter](img/howToUse_cellsBuilding.png)"
   ]
  },
  {
   "cell_type": "markdown",
   "id": "1195ac02-7ef9-4122-9bc8-d88f601a1f9c",
   "metadata": {},
   "source": [
    "And because each idea can be stored in a separate block (which can be a paragraph or sections, etc), it becomes quite easy to rearrange ideas."
   ]
  },
  {
   "cell_type": "markdown",
   "id": "2b18459f-219e-4763-8063-198aa5487cf2",
   "metadata": {},
   "source": [
    "This can be enormously helpful in explaining a concept, or even templatizing it:\n",
    "\n",
    "* Load in Data\n",
    "* Provide a bit of context\n",
    "* Show pretty graphs\n",
    "* Give details (either text or code) as needed."
   ]
  },
  {
   "cell_type": "markdown",
   "id": "8683ba42-4428-4066-9363-a55e9a042d0d",
   "metadata": {},
   "source": [
    "## How does Jupyter Work?\n",
    "\n",
    "When rendering the document, cells that are code are sent to the Kernel to ask what the response is that it should render.\n",
    "\n",
    "Jupyter by itself doesn't understand the code, it just passes it to a program that does - and this is called a 'Kernel'\n",
    "\n",
    "This allows Jupyter to work with all kinds of languages, like:\n",
    "\n",
    "* Ruby\n",
    "* Python\n",
    "* Perl\n",
    "* C++\n",
    "\n",
    "[Or see the full list of current Kernels from Jupyter's website](https://github.com/jupyter/jupyter/wiki/Jupyter-kernels)\n",
    "\n",
    "Here, we assume we'll be using [nriesco's iJavaScript Kernel for Jupyter](https://github.com/n-riesco/ijavascript), as it provides JavaScript support for Jupyter."
   ]
  },
  {
   "cell_type": "markdown",
   "id": "190adbab-0e17-4abe-a34b-af497aab1ee7",
   "metadata": {},
   "source": [
    "## Data Driven Notebooks\n",
    "\n",
    "Even better, the text you provide can be data driven..."
   ]
  },
  {
   "cell_type": "code",
   "execution_count": null,
   "id": "43934c29-6c15-449f-b6b6-cc441ce0ff9f",
   "metadata": {
    "tags": []
   },
   "outputs": [],
   "source": [
    "// # minutes gap between appointments\n",
    "bufferBetweenAppointments = 0;\n",
    "\n",
    "// # resources per site\n",
    "schedulableResourcesPerSite = 30;\n",
    "\n",
    "// # minutes duration per appointment\n",
    "appointmentDuration = 10;\n",
    "\n",
    "// # appointments desired per site per day\n",
    "appointmentsPerSitePerDay = 3500;\n",
    "\n",
    "// # hours that vaccines are distributed\n",
    "vaccineHoursPerDay = 8;\n",
    "\n",
    "// # doses per vial\n",
    "dosesPerVial = 10;\n",
    "\n",
    "//-- opening hour of the day\n",
    "openingHour = 8; // (8 = 8 am)"
   ]
  },
  {
   "cell_type": "code",
   "execution_count": null,
   "id": "5455c73c-7212-4401-a845-9520376910d7",
   "metadata": {
    "tags": []
   },
   "outputs": [],
   "source": [
    "//-- calculations\n",
    "\n",
    "//-- number of vials consumed per day\n",
    "totalVialsConsumed = Math.max(appointmentsPerSitePerDay / dosesPerVial);\n",
    "\n",
    "//-- effective time between scheduled appointments\n",
    "delayBetweenAppointments = appointmentDuration + bufferBetweenAppointments;\n",
    "\n",
    "//-- number of appointments per hour per resource\n",
    "appointmentsPerHour = 60 / (appointmentDuration + bufferBetweenAppointments);\n",
    "\n",
    "//-- minute start of the day\n",
    "openingMinute = openingHour * 60;\n",
    "\n",
    "//-- number of appointment slots we will need throughout the day\n",
    "numAppointmentSlots = Math.ceil(appointmentsPerSitePerDay / schedulableResourcesPerSite);\n",
    "\n",
    "newline = '<br />';\n",
    "\n",
    "formatN = (n, specificity = 0) => {\n",
    "    return n.toFixed(specificity);\n",
    "}"
   ]
  },
  {
   "cell_type": "markdown",
   "id": "800ed596-aa4d-477e-b1c0-d2dc6797512a",
   "metadata": {},
   "source": [
    "## Example Data Driven Markdown"
   ]
  },
  {
   "cell_type": "code",
   "execution_count": null,
   "id": "83d1d906-bc76-4b35-8d03-e7047b997fee",
   "metadata": {},
   "outputs": [],
   "source": [
    "utils.ijs.markdown(`# How many appointments could we do?\n",
    "\n",
    "This can be a frequent question when we're trying to figure out Vaccinations.\n",
    "\n",
    "Leaving the technical bit alone, there are only so many actual appointment slots available per day.\n",
    "\n",
    "Assuming that each appointment takes roughly ${appointmentDuration} minutes ${newline}\n",
    "<span style='color:#999'>(\n",
    "${\n",
    "  bufferBetweenAppointments\n",
    "    ? `with ${bufferBetweenAppointments} minutes between each appointment`\n",
    "    : 'without any gaps between appointments'\n",
    "}\n",
    ")</span> ${newline}\n",
    "...a nursing station could handle ${formatN(\n",
    "  appointmentsPerHour,\n",
    "  2\n",
    ")} appointments / hour.\n",
    "\n",
    "With ${schedulableResourcesPerSite} resources, ${newline}\n",
    "that means ${formatN(\n",
    "  appointmentsPerHour * schedulableResourcesPerSite,\n",
    "  2\n",
    ")} appointments per hour.\n",
    "\n",
    "If we wanted to vaccinate ${formatN(\n",
    "  appointmentsPerSitePerDay\n",
    ")} people per day,${newline}\n",
    "**it would take about ${formatN(\n",
    "  appointmentsPerSitePerDay / appointmentsPerHour / schedulableResourcesPerSite\n",
    ")} hours to complete them all**\n",
    "\n",
    "... and thats assuming all shifts hand off flawlessly.\n",
    "`);"
   ]
  },
  {
   "cell_type": "code",
   "execution_count": null,
   "id": "9c000092-cc46-400f-9947-89f36c635311",
   "metadata": {
    "tags": []
   },
   "outputs": [],
   "source": [
    "//-- create an array for each appointment slot\n",
    "doseSchedule = utils.array.arrange(numAppointmentSlots)\n",
    "    .map((appointmentSlotNumber) => ({\n",
    "        //-- doses are based on the number of resources * schedulable slots\n",
    "        doses: appointmentSlotNumber * schedulableResourcesPerSite,\n",
    "        datetime: new Date(2022, 1, 1, 0,\n",
    "            openingMinute\n",
    "            + appointmentSlotNumber * (appointmentDuration + bufferBetweenAppointments)\n",
    "        )\n",
    "    }));\n",
    "\n",
    "//-- show a couple example values to get a sense of the objects\n",
    "doseSchedule.slice(0, 10)"
   ]
  },
  {
   "cell_type": "code",
   "execution_count": null,
   "id": "54d65f3e-9e2b-4c3e-b35d-85cd83795130",
   "metadata": {},
   "outputs": [],
   "source": [
    "utils.vega.svg((vl) => vl.markLine({ interpolate: 'step-after'})\n",
    "    .data(doseSchedule)\n",
    "    .width(600)\n",
    "    .height(400)\n",
    "    .encode(\n",
    "        vl.y().fieldQ('doses').title('# of Doses'),\n",
    "        vl.x().fieldT('datetime').title('Time from Store Opening')\n",
    "    ))"
   ]
  },
  {
   "cell_type": "markdown",
   "id": "d95c6eb6-5a04-4e59-908e-8e16fb33c1af",
   "metadata": {},
   "source": [
    "(See the [vega module for examples on how this chart was made](https://jupyter-ijavascript-utils.onrender.com/module-vega.html))"
   ]
  },
  {
   "cell_type": "markdown",
   "id": "e318cd66-652b-4cde-b8e4-1bad903d41bd",
   "metadata": {},
   "source": [
    "# Loading Your Data into a Notebook\n",
    "\n",
    "Because we are working with a JavaScript/Node Kernel that works within Jupyter, loading your data into Jupyter can be done the same way you've always loaded data into NodeJS."
   ]
  },
  {
   "cell_type": "markdown",
   "id": "3515f5ef-6eaa-490d-97d8-7bdc0c686242",
   "metadata": {},
   "source": [
    "We wanted to make this simpler however, and provided a [File module](https://jupyter-ijavascript-utils.onrender.com/module-file.html) for common needs:\n",
    "\n",
    "* loading in JSON\n",
    "* loading in text\n",
    "* writing JSON to a file\n",
    "* writing text to a file\n",
    "                                                                    "
   ]
  },
  {
   "cell_type": "markdown",
   "id": "1ac6c672-13c8-4066-95cb-81a6322eae17",
   "metadata": {},
   "source": [
    "For Example:"
   ]
  },
  {
   "cell_type": "code",
   "execution_count": null,
   "id": "a6493510-c864-41b1-ade0-99b5e943fcfe",
   "metadata": {
    "tags": []
   },
   "outputs": [],
   "source": [
    "initializeWeather = () => [\n",
    "  { id: 1, city: 'Seattle',  month: 'Aug', precip: 0.87 },\n",
    "  { id: 0, city: 'Seattle',  month: 'Apr', precip: 2.68 },\n",
    "  { id: 2, city: 'Seattle',  month: 'Dec', precip: 5.31 },\n",
    "  { id: 3, city: 'New York', month: 'Apr', precip: 3.94 },\n",
    "  { id: 4, city: 'New York', month: 'Aug', precip: 4.13 },\n",
    "  { id: 5, city: 'New York', month: 'Dec', precip: 3.58 },\n",
    "  { id: 6, city: 'Chicago',  month: 'Apr', precip: 3.62 },\n",
    "  { id: 8, city: 'Chicago',  month: 'Dec', precip: 2.56 },\n",
    "  { id: 7, city: 'Chicago',  month: 'Aug', precip: 3.98 }\n",
    "];\n",
    "weather = initializeWeather();"
   ]
  },
  {
   "cell_type": "markdown",
   "id": "a090a4e8-18ea-4488-928f-56f828af8ef5",
   "metadata": {},
   "source": [
    "We can write that value to a file, or read the file in a similar way\n",
    "\n",
    "```\n",
    "//-- store to file if desired\n",
    "utils.file.writeJSON('./data/weather.json', weather);\n",
    "\n",
    "//-- or rehydrate again at a later time\n",
    "const myWeather = utils.file.readJSON('./data/weather.json');\n",
    "myWeather.length; // 9\n",
    "```"
   ]
  },
  {
   "cell_type": "markdown",
   "id": "96e14494-912d-433b-95dd-9952c086be5b",
   "metadata": {},
   "source": [
    "## Working with Text Files\n",
    "\n",
    "You can also work with Text files and use it based on the current path:\n",
    "\n",
    "```\n",
    "sillySong = utils.file.load('../data/pirates.txt');\n",
    "\n",
    "sillySong.split(/\\n[ \\t]*\\n/)        // split on multiple line breaks\n",
    "  .map(stanza => stanza.split(/\\n/)  // split lines by newline\n",
    "    .map(line => line.trim())        // trim each line\n",
    "  );\n",
    "sillySong[0][0]; // I am the very model of a modern Major-General,\n",
    "```"
   ]
  },
  {
   "cell_type": "markdown",
   "id": "abc204f0-4aec-43d2-b923-376c25b3b658",
   "metadata": {},
   "source": [
    "## Working with CSV or Other Data Types\n",
    "\n",
    "If you need to load in CSV, review NPM to find packages that could work for you.\n",
    "\n",
    "For example, I am quite a fan of [D3 JS](https://github.com/d3/d3-dsv) and can be done as simple as:\n",
    "\n",
    "```\n",
    "d3.csvParse(\"foo,bar\\n1,2\"); // [{foo: \"1\", bar: \"2\"}, columns: [\"foo\", \"bar\"]]\n",
    "d3.tsvParse(\"foo\\tbar\\n1\\t2\"); // [{foo: \"1\", bar: \"2\"}, columns: [\"foo\", \"bar\"]]\n",
    "```\n",
    "\n",
    "but others, like the [Node CSV package](https://github.com/adaltas/node-csv) is also good and has 0 dependencies.\n",
    "                                            \n",
    "Working with very large CSV files is best to work with a File Stream, with many options available there.\n",
    "                                        \n",
    "I've also had very good luck with libraries such as [scramjet](https://www.npmjs.com/package/scramjet) or [rxjs](https://rxjs.dev/) and multiple workers."
   ]
  },
  {
   "cell_type": "markdown",
   "id": "5bff0e2c-1790-41cb-95d1-b8f5f80bdd0a",
   "metadata": {},
   "source": [
    "# Grouping and Exploring\n",
    "\n",
    "As with many of the tutorials we show here, many leverage the wonderful [vega datasets](https://github.com/vega/vega-datasets), understanding the data is a crucial first step in helping to explain it to others.\n",
    "\n",
    "Once you have the data, we provide a few additional tools you can use:\n",
    "\n",
    "* [Generate a Schema](https://jupyter-ijavascript-utils.onrender.com/module-object.html#.generateSchema) for your array\n",
    "* [Get the Object Property Types](https://jupyter-ijavascript-utils.onrender.com/module-object.html#.getObjectPropertyTypes) for your array\n",
    "\n",
    "```\n",
    "utils.object.generateSchema(weather)\n",
    "// {\n",
    "//   \"$schema\": \"http://json-schema.org/draft-04/schema#\",\n",
    "//   \"type\": \"array\",\n",
    "//   \"items\": {\n",
    "//     \"type\": \"object\",\n",
    "//     \"properties\": {\n",
    "//       \"id\": {\n",
    "//         \"type\": \"number\"\n",
    "//       },\n",
    "//       \"city\": {\n",
    "//         \"type\": \"string\"\n",
    "//       },\n",
    "//       \"month\": {\n",
    "//         \"type\": \"string\"\n",
    "//       },\n",
    "//       \"precip\": {\n",
    "//         \"type\": \"number\"\n",
    "//       }\n",
    "//     },\n",
    "//     \"required\": [\n",
    "//       \"id\",\n",
    "//       \"city\",\n",
    "//       \"month\",\n",
    "//       \"precip\"\n",
    "//     ]\n",
    "//   }\n",
    "// }\n",
    "```"
   ]
  },
  {
   "cell_type": "markdown",
   "id": "daa408cd-39df-4e89-b8cd-4c84d06972ef",
   "metadata": {},
   "source": [
    "## Grouping\n",
    "\n",
    "Additionally, grouping can be crucial in understanding the true shape of your data.\n",
    "\n",
    "For example:\n",
    "\n",
    "```\n",
    "initializeWeather = () => [\n",
    "  { id: 1, city: 'Seattle',  month: 'Aug', precip: 0.87 },\n",
    "  { id: 0, city: 'Seattle',  month: 'Apr', precip: 2.68 },\n",
    "  { id: 2, city: 'Seattle',  month: 'Dec', precip: 5.31 },\n",
    "  { id: 3, city: 'New York', month: 'Apr', precip: 3.94 },\n",
    "  { id: 4, city: 'New York', month: 'Aug', precip: 4.13 },\n",
    "  { id: 5, city: 'New York', month: 'Dec', precip: 3.58 },\n",
    "  { id: 6, city: 'Chicago',  month: 'Apr', precip: 3.62 },\n",
    "  { id: 8, city: 'Chicago',  month: 'Dec', precip: 2.56 },\n",
    "  { id: 7, city: 'Chicago',  month: 'Aug', precip: 3.98 }\n",
    "];\n",
    "weather = initializeWeather();\n",
    "```\n",
    "\n",
    "We can then identify which records belong to which city by the `group by` function:\n",
    "\n",
    "```\n",
    "utils.group.by(weather, 'city')\n",
    "```\n",
    "\n",
    "```\n",
    "// SourceMap(3) [Map] {\n",
    "//   'Seattle' => [\n",
    "//     { id: 1, city: 'Seattle', month: 'Aug', precip: 0.87 },\n",
    "//     { id: 0, city: 'Seattle', month: 'Apr', precip: 2.68 },\n",
    "//     { id: 2, city: 'Seattle', month: 'Dec', precip: 5.31 }\n",
    "//  ],\n",
    "//   'New York' => [\n",
    "//     { id: 3, city: 'New York', month: 'Apr', precip: 3.94 },\n",
    "//    { id: 4, city: 'New York', month: 'Aug', precip: 4.13 },\n",
    "//     { id: 5, city: 'New York', month: 'Dec', precip: 3.58 }\n",
    "//   ],\n",
    "//   'Chicago' => [\n",
    "//     { id: 6, city: 'Chicago', month: 'Apr', precip: 3.62 },\n",
    "//     { id: 8, city: 'Chicago', month: 'Dec', precip: 2.56 },\n",
    "//     { id: 7, city: 'Chicago', month: 'Aug', precip: 3.98 }\n",
    "//   ],\n",
    "//   source: 'city'\n",
    "// }\n",
    "```"
   ]
  },
  {
   "cell_type": "markdown",
   "id": "45629047-53ad-46e4-bf6a-78f8aadb7453",
   "metadata": {},
   "source": [
    "You can then access those records based on the map index:\n",
    "\n",
    "```\n",
    "utils.group.by(weather, 'city')['Seattle'];\n",
    "\n",
    "// [\n",
    "//     { id: 1, city: 'Seattle', month: 'Aug', precip: 0.87 },\n",
    "//     { id: 0, city: 'Seattle', month: 'Apr', precip: 2.68 },\n",
    "//     { id: 2, city: 'Seattle', month: 'Dec', precip: 5.31 }\n",
    "// ]\n",
    "```"
   ]
  },
  {
   "cell_type": "markdown",
   "id": "35866807-1d38-4b33-931e-3c2a7bcaa302",
   "metadata": {},
   "source": [
    "You can even group by multiple groups to get more fine grained collections:\n",
    "\n",
    "```\n",
    "or using multiple groups: utils.group.by(weather, 'month', 'city')\n",
    "\n",
    "// provides:\n",
    "// SourceMap(3) [Map] {\n",
    "//   'Aug' => SourceMap(3) [Map] {\n",
    "//     \"Seattle\" => [{ \"id\": 1, \"city\": \"Seattle\", \"month\": \"Aug\", \"precip\": 0.87 }]\n",
    "//     \"New York\" => [{\"id\": 4, \"city\": \"New York\", \"month\": \"Aug\", \"precip\": 4.13}]\n",
    "//     \"Chicago\" => [{\"id\": 7, \"city\": \"Chicago\", \"month\": \"Aug\", \"precip\": 3.98}]\n",
    "//     source: 'city'\n",
    "//   },\n",
    "//   'Apr' => SourceMap(3) [Map] {\n",
    "//     \"Seattle\" => [{\"id\": 0, \"city\": \"Seattle\", \"month\": \"Apr\", \"precip\": 2.68}]\n",
    "//     \"New York\" => [{\"id\": 3, \"city\": \"New York\", \"month\": \"Apr\", \"precip\": 3.94}]\n",
    "//     \"Chicago\" => [{\"id\": 6, \"city\": \"Chicago\", \"month\": \"Apr\", \"precip\": 3.62}]\n",
    "//     source: 'city'\n",
    "//   },\n",
    "//   'Dec' => SourceMap(3) [Map] {\n",
    "//     \"Seattle\" => [{\"id\": 2, \"city\": \"Seattle\", \"month\": \"Dec\", \"precip\": 5.31}]\n",
    "//     \"New York\" => [{\"id\": 5, \"city\": \"New York\", \"month\": \"Dec\", \"precip\": 3.58}]\n",
    "//     \"Chicago\" => [{\"id\": 8, \"city\": \"Chicago\", \"month\": \"Dec\", \"precip\": 2.56}]\n",
    "//     source: 'city'\n",
    "//   },\n",
    "//   source: 'month'\n",
    "// }\n",
    "```"
   ]
  },
  {
   "cell_type": "markdown",
   "id": "f77436fc-578d-46c8-9b0d-d48c159fdeaf",
   "metadata": {},
   "source": [
    "(see the [Group By module](https://jupyter-ijavascript-utils.onrender.com/module-group.html) for more)"
   ]
  },
  {
   "cell_type": "markdown",
   "id": "6f4148bb-6571-4b70-a2b9-1bdfde979159",
   "metadata": {},
   "source": [
    "## Aggregating\n",
    "\n",
    "You can also aggregate the entire collection:\n",
    "\n",
    "```\n",
    "utils.aggregate.unique(weather, 'city');\n",
    "// [ 'Seattle', 'New York', 'Chicago' ]\n",
    "```"
   ]
  },
  {
   "cell_type": "markdown",
   "id": "7351beff-bbef-40b7-8e03-dd5628212c70",
   "metadata": {},
   "source": [
    "Or reduce after grouping\n",
    "\n",
    "```\n",
    "utils.group.by(weather, 'city')\n",
    "    .reduce((group) => ({\n",
    "      min: utils.agg.min(group, 'precip'),\n",
    "      max: utils.agg.max(group, 'precip'),\n",
    "      avg: utils.agg.avgMean(group, 'precip')\n",
    "    }));\n",
    "\n",
    "// [\n",
    "//   { city: 'Seattle', min: 0.87, max: 5.31, avg: 2.953333333333333 },\n",
    "//   { city: 'New York', min: 3.58, max: 4.13, avg: 3.8833333333333333 },\n",
    "//   { city: 'Chicago', min: 2.56, max: 3.98, avg: 3.3866666666666667 }\n",
    "// ]\n",
    "```"
   ]
  },
  {
   "cell_type": "markdown",
   "id": "70646c05-733a-4723-8c88-33416f72e235",
   "metadata": {},
   "source": [
    "Even rolling your own if you would prefer:\n",
    "\n",
    "```\n",
    "utils.group.rollup(weather, r => r.length, 'city', 'year')\n",
    "\n",
    "//  SourceMap(3) [Map] {\n",
    "//   'Seattle' => SourceMap(2) [Map] { 2020 => 2, 2021 => 1, source: 'year' },\n",
    "//   'New York' => SourceMap(2) [Map] { 2021 => 1, 2020 => 2, source: 'year' },\n",
    "//   'Chicago' => SourceMap(2) [Map] { 2021 => 1, 2020 => 2, source: 'year' },\n",
    "//   source: 'city'\n",
    "// }\n",
    "```"
   ]
  },
  {
   "cell_type": "markdown",
   "id": "44e9c846-28bf-4e6b-937e-c4683ebfa912",
   "metadata": {},
   "source": [
    "(See the [Aggregate Module for more](https://jupyter-ijavascript-utils.onrender.com/module-aggregate.html))"
   ]
  },
  {
   "cell_type": "markdown",
   "id": "59f63c3d-15d5-49ff-9a0f-21a32b790992",
   "metadata": {},
   "source": [
    "# Joining data\n",
    "\n",
    "In addition to aggregating data, we may want to join the data to another dataset"
   ]
  },
  {
   "cell_type": "code",
   "execution_count": null,
   "id": "7c01302c-e326-4b43-a408-cdd8565064be",
   "metadata": {},
   "outputs": [],
   "source": [
    "weatherByCity = utils.group.by(weather, 'city')\n",
    "    .reduce((group) => ({\n",
    "      min: utils.agg.min(group, 'precip'),\n",
    "      max: utils.agg.max(group, 'precip'),\n",
    "      avg: utils.agg.avgMean(group, 'precip')\n",
    "    }));"
   ]
  },
  {
   "cell_type": "code",
   "execution_count": null,
   "id": "d788c118-b417-4517-b8f4-0a50cda4484c",
   "metadata": {},
   "outputs": [],
   "source": [
    "cityLocations = [{ city: 'Chicago', state: 'IL', lat: 41.8781, lon: -87.6298 },\n",
    "                { city: 'New York', state: 'NY', lat: 40.7128, lon: -74.0060 },\n",
    "                { city: 'Seattle', state: 'WA', lat: 47.6062, lon: -122.3321 }];"
   ]
  },
  {
   "cell_type": "code",
   "execution_count": null,
   "id": "737f8d46-e8a9-45c2-9b68-53a66b3456dd",
   "metadata": {},
   "outputs": [],
   "source": [
    "cityLocationMap = utils.object.mapByProperty(cityLocations, 'city');"
   ]
  },
  {
   "cell_type": "code",
   "execution_count": null,
   "id": "4e653153-363f-49a5-baee-855f44c52085",
   "metadata": {
    "tags": []
   },
   "outputs": [],
   "source": [
    "utils.object.joinProperties(weatherByCity, 'city', cityLocationMap, 'state', 'lat', 'lon')\n",
    "\n",
    "// [\n",
    "//   { city: 'Seattle', min: 0.87, max: 5.31, avg: 2.953333333333333, statelat: 47.6062, lon: 122.3321, state: 'WA' },\n",
    "//   { city: 'New York', min: 3.58, max: 4.13, avg: 3.8833333333333333, lat: 40.7128, lon: 74.006, state: 'NY' },\n",
    "//   { city: 'Chicago', min: 2.56, max: 3.98, avg: 3.3866666666666667, lat: 41.8781, lon: 87.6298, state: 'IL' }\n",
    "// ]"
   ]
  },
  {
   "cell_type": "markdown",
   "id": "37a1fa90-4533-416f-ba17-83dd9ea961ab",
   "metadata": {},
   "source": [
    "or an alternative using vanilla JavaScript"
   ]
  },
  {
   "cell_type": "code",
   "execution_count": null,
   "id": "046f1cb7-736e-4f65-82a5-3d497b994bd2",
   "metadata": {
    "tags": []
   },
   "outputs": [],
   "source": [
    "weatherByCity = weatherByCity.map((entry) => {\n",
    "    const { state, lat, lon } = cityLocationMap.get(entry.city);\n",
    "    return ({ ...entry, state, lat, lon });\n",
    "});\n",
    "\n",
    "// [\n",
    "//   { city: 'Seattle', min: 0.87, max: 5.31, avg: 2.953333333333333, lat: 47.6062, lon: 122.3321 },\n",
    "//   { city: 'New York', min: 3.58, max: 4.13, avg: 3.8833333333333333, lat: 40.7128, lon: 74.006 },\n",
    "//   { city: 'Chicago', min: 2.56, max: 3.98, avg: 3.3866666666666667, lat: 41.8781, lon: 87.6298 }\n",
    "// ]"
   ]
  },
  {
   "cell_type": "markdown",
   "id": "14cd84e6-9e5b-4ba1-bcc8-ee0950b2a442",
   "metadata": {},
   "source": [
    "# Graph and Visualize\n",
    "\n",
    "Once you have your data aggregated as you would like, then graph or visualize the data as you would like.\n",
    "\n",
    "For example, using the [Vega-Lite or Vega libraries](https://jupyter-ijavascript-utils.onrender.com/module-vega.html)\n",
    "                                                     \n",
    "These can be exported as SVG - meaning it will be included in your export, or embededed - and made interactive within your browser.\n",
    "                                                     \n",
    "Or using the [SVG Module](https://jupyter-ijavascript-utils.onrender.com/module-svg.html) - that can also be exported as SVG or embedded."
   ]
  },
  {
   "cell_type": "code",
   "execution_count": null,
   "id": "27a4d46d-0e00-4282-bfa7-41544654105c",
   "metadata": {},
   "outputs": [],
   "source": [
    "utils.vega.svgFromSpec({\n",
    "  \"$schema\": \"https://vega.github.io/schema/vega-lite/v5.json\",\n",
    "  \"data\": {\"values\": weather},\n",
    "  \"encoding\": {\"y\": {\"field\": \"city\", \"type\": \"ordinal\"}},\n",
    "  \"layer\": [\n",
    "    {\n",
    "      \"mark\": {\"type\": \"point\", \"filled\": true},\n",
    "      \"encoding\": {\n",
    "        \"x\": {\n",
    "          \"aggregate\": \"mean\",\n",
    "          \"field\": \"precip\",\n",
    "          \"type\": \"quantitative\",\n",
    "          \"scale\": {\"zero\": false},\n",
    "          \"title\": \"Precipitation\"\n",
    "        },\n",
    "        \"color\": {\"value\": \"black\"}\n",
    "      }\n",
    "    },\n",
    "    {\n",
    "      \"mark\": {\"type\": \"errorbar\", \"extent\": \"ci\"},\n",
    "      \"encoding\": {\n",
    "        \"x\": {\"field\": \"precip\", \"type\": \"quantitative\", \"title\": \"Precipitation\"}\n",
    "      }\n",
    "    }\n",
    "  ]\n",
    "})"
   ]
  },
  {
   "cell_type": "markdown",
   "id": "f09d753d-54d3-435f-98b5-aa49c95a7fd0",
   "metadata": {},
   "source": [
    "(See [the example from Vega-Lite](https://vega.github.io/vega-lite/examples/layer_point_errorbar_ci.html)\n",
    " or [the list of all Vega-Lite Examples](https://vega.github.io/vega-lite/examples))"
   ]
  },
  {
   "cell_type": "raw",
   "id": "3cb2f100-b5ce-45de-a83f-9051154844c1",
   "metadata": {},
   "source": [
    "Or chart out the locations based on a Map"
   ]
  },
  {
   "cell_type": "code",
   "execution_count": null,
   "id": "6ab8d87f-473b-44b1-82b4-6dc7970cccec",
   "metadata": {},
   "outputs": [],
   "source": [
    "weatherMarkers = weatherByCity.map(({lat, lon, city}) => [lat, lon, city])"
   ]
  },
  {
   "cell_type": "code",
   "execution_count": null,
   "id": "7482d470-83e6-49b0-9229-a4b4d994002f",
   "metadata": {},
   "outputs": [],
   "source": [
    "utils.leaflet.renderMarkers(weatherMarkers)"
   ]
  },
  {
   "cell_type": "markdown",
   "id": "d4983f7c-d2e0-4d0c-93c0-31796cb83994",
   "metadata": {},
   "source": [
    "![Screenshot of weather markers in a map](img/weatherMarkersMap.png)"
   ]
  },
  {
   "cell_type": "markdown",
   "id": "ea69c101-4c5f-493f-a229-66889ed2d08b",
   "metadata": {},
   "source": [
    "or we could make a [Choropleth - a Data Driven Map](https://jupyter-ijavascript-utils.onrender.com/tutorial-vega_choroplethShort.html) to show the precipitation of the whole state"
   ]
  },
  {
   "cell_type": "raw",
   "id": "4826be24-1bc9-450a-8cad-63823c3e3e98",
   "metadata": {},
   "source": [
    "//-- use the libraries from the Choropleth walkthrough\n",
    "//-- https://jupyter-ijavascript-utils.onrender.com/tutorial-vega_choroplethShort.html\n",
    "\n",
    "geographyDatastore = require('sane-topojson');\n",
    "countryISO = require('i18n-iso-countries');\n",
    "topojson = require('topojson-client');\n",
    "['utils', 'geographyDatastore', 'countryCodes', 'topojson'];\n",
    "\n",
    "//-- geto the state geographies\n",
    "stateGeo = topojson.feature(geographyDatastore.world_110m, 'subunits').features\n",
    "                .filter((subunit) => subunit.properties.gu === 'USA');\n",
    "\n",
    "//-- identify the precipitation by state\n",
    "precipitationByState = utils.object.mapByProperty(weatherByCity, 'state');\n",
    "\n",
    "//-- apply the max and min to the geography objects\n",
    "precipitationGeo = utils.object.joinProperties(stateGeo, 'id', precipitationByState, 'min', 'max', 'avg');\n",
    "\n",
    "utils.vega.svgFromSpec({\n",
    "  \"$schema\": \"https://vega.github.io/schema/vega-lite/v5.json\",\n",
    "  \"title\": \"Avg Precipitation in 2000\",\n",
    "  \"mark\": {\n",
    "    \"type\": \"geoshape\",\n",
    "    \"stroke\": \"white\"\n",
    "  },\n",
    "  \"data\": {\n",
    "      // specify which property and year we want to use from the Gap Minder dataset\n",
    "      \"values\": precipitationGeo\n",
    "  },\n",
    "  \"encoding\": {\n",
    "    \"color\": {\n",
    "      \"condition\": {\n",
    "        \"test\": { not: \"isDefined(datum.avg)\" },\n",
    "        \"value\": \"darkgrey\"\n",
    "      },\n",
    "      \"field\": \"avg\",\n",
    "      \"type\": \"quantitative\",\n",
    "      \"scale\": {\n",
    "        \"scheme\": \"spectral\"\n",
    "      }\n",
    "    }\n",
    "  },\n",
    "  \"projection\": {\n",
    "    \"type\": \"albersUsa\",\n",
    "  },\n",
    "  \"width\": 900,\n",
    "  \"height\": 500,\n",
    "  \"config\": {\n",
    "    \"mark\": {\"invalid\": null}\n",
    "  }\n",
    "});"
   ]
  },
  {
   "cell_type": "markdown",
   "id": "6cba7fd5-16b8-4242-954b-c292eda56fd7",
   "metadata": {},
   "source": [
    "![Screenshot of Choropleth for Avg Precipitation](img/weatherPrecipitationChoropleth.png)"
   ]
  },
  {
   "cell_type": "markdown",
   "id": "1b96f28b-4d31-4b3d-9bdd-6210306fcad1",
   "metadata": {},
   "source": [
    "# This is only a Taste\n",
    "\n",
    "This is only a taste of the things that you can do.\n",
    "\n",
    "What Jupyter / Notebooks provide is a way for you to organize your thoughts and even to present them cleanly.\n",
    "\n",
    "We can't wait to see what you come up with."
   ]
  }
 ],
 "metadata": {
  "kernelspec": {
   "display_name": "JavaScript (Node.js)",
   "language": "javascript",
   "name": "javascript"
  },
  "language_info": {
   "file_extension": ".js",
   "mimetype": "application/javascript",
   "name": "javascript",
   "version": "18.12.1"
  }
 },
 "nbformat": 4,
 "nbformat_minor": 5
}
