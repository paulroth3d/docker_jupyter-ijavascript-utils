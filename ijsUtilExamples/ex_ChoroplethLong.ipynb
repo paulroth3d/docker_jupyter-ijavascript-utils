{
 "cells": [
  {
   "cell_type": "markdown",
   "id": "3ea6b47d-1ad8-4d64-8093-2c3c516e953e",
   "metadata": {
    "tags": []
   },
   "source": [
    "# Lets make a Choropleth\n",
    "\n",
    "A choropleth is essentially a data driven map, that changes the map in some regard based on those values.\n",
    "\n",
    "A very familiar example are the red and blue styles shading of states for US Elections."
   ]
  },
  {
   "cell_type": "markdown",
   "id": "17616eb5-4478-4217-b030-5299b3d48f13",
   "metadata": {},
   "source": [
    "## Configure the Map\n",
    "\n",
    "Maps don't show year over year very well.\n",
    "\n",
    "To simplify finding this, here is the configuration:"
   ]
  },
  {
   "cell_type": "code",
   "execution_count": null,
   "id": "f03cd967-d5a3-4a04-a701-a25d5585bcc6",
   "metadata": {},
   "outputs": [],
   "source": [
    "currentYear = 1955;"
   ]
  },
  {
   "cell_type": "code",
   "execution_count": null,
   "id": "b8b8e8c5-54f4-45a7-a42b-f170ffdd9a6c",
   "metadata": {},
   "outputs": [],
   "source": [
    "currentMetric = 'prop';"
   ]
  },
  {
   "cell_type": "markdown",
   "id": "7f616101-8351-4bf6-944f-93051dca91a4",
   "metadata": {},
   "source": [
    "# Datasets\n",
    "\n",
    "There are a number of datasets you can choose from when trying to render a choropleth, and most depend on:\n",
    "\n",
    "* the format (ex: shapefile, geojson, topojson)\n",
    "* the level of detail (ex: 110m has LESS detail than looking at a map at the 10m level)\n",
    "* the features of data (ex: countries, counties, rivers - and for the right area)\n",
    "\n",
    "## Natural Earth\n",
    "\n",
    "[Natural Earth](https://www.naturalearthdata.com/downloads/) is a public domain map dataset available at 1:10m, 1:50m, and 1:110 million scales. Featuring tightly integrated vector and raster data, with Natural Earth you can make a variety of visually pleasing, well-crafted maps with cartography or GIS software.\n",
    "\n",
    "Natural Earth was built through a collaboration of many volunteers and is supported by NACIS (North American Cartographic Information Society), and is free for use in any type of project ([see their terms of use](https://www.naturalearthdata.com/about/terms-of-use/)).\n",
    "\n",
    "## TopoJSON\n",
    "\n",
    "[TopoJSON](https://github.com/topojson/topojson-specification) is an an open format extension from the [GeoJSON](#geojson) format, that can be converted to and from GeoJSON.\n",
    "\n",
    "TopoJSON has two special caveats over some other GIS formats:\n",
    "\n",
    "* it can additionally encode non-geographical data\n",
    "* it eliminates redundancy - resulting in potentially 80% reduction in file sizes.\n",
    "\n",
    "For example, the shared boundary between California and Nevada is represented only once, rather than being duplicated for both states.\n",
    "\n",
    "## GapMinder Life Expectancy Study\n",
    "\n",
    "The [GapMinder Life Expectancy Study](https://www.gapminder.org/answers/how-does-income-relate-to-life-expectancy/) is a facinating dataset and writeup by the GapMinder group, including Professor Hans Rosling.\n",
    "\n",
    "We'll access this through the [vega-datasets](https://github.com/vega/vega-datasets) library\n",
    "\n",
    "It provides: \n",
    "\n",
    "Property    | Type   | Description\n",
    "--          | --     | --\n",
    "year        | Number | The year of the sample\n",
    "country     | String | Name of the country\n",
    "pop         | Number | Population of the country\n",
    "life_expect | Number | Expected Lifespan within that country at that time\n",
    "fertility   | Number | Reproduction coefficient\n",
    "\n",
    "**NOTE: the country names are not standardized** - so we'll need to address that.\n",
    "\n",
    "## Country ISO Codes - 3166\n",
    "\n",
    "We will use the [i18n-iso-countries](https://www.npmjs.com/package/i18n-iso-countries) library to help us correlate countries by looking them up to the ISO 3166 standard.\n",
    "\n",
    "[ISO 3166](https://en.wikipedia.org/wiki/List_of_ISO_3166_country_codes) specifies the Numerical, 2 character and 3 character Country Codes, and will allow us to relate the countries to their geometry."
   ]
  },
  {
   "cell_type": "markdown",
   "id": "16960c06-b0e3-4293-b3fb-8e3c00eea3fe",
   "metadata": {},
   "source": [
    "# Libraries\n",
    "\n",
    "We will use the following libraries:"
   ]
  },
  {
   "cell_type": "code",
   "execution_count": null,
   "id": "2f6507d4-ac55-40cf-90e7-3589c7d2b423",
   "metadata": {},
   "outputs": [],
   "source": [
    "utils = require('jupyter-ijavascript-utils');\n",
    "geographyDatastore = require('sane-topojson');\n",
    "countryISO = require('i18n-iso-countries');\n",
    "topojson = require('topojson-client');\n",
    "['utils', 'geographyDatastore', 'countryCodes', 'topojson'];"
   ]
  },
  {
   "cell_type": "markdown",
   "id": "d4971bb7-c387-4a95-bfa9-6606fbb3ea77",
   "metadata": {},
   "source": [
    "## topojson-client - `topojson`\n",
    "\n",
    "The [topojson-client](https://github.com/topojson/topojson-client) library provides a way to:\n",
    "\n",
    "* convert shape / geojson files to and from topojson files\n",
    "* access geographic features\n",
    "\n",
    "## sane-topojson - `geographyDatastore`\n",
    "\n",
    "In our case, we'll be using the [sane-topojson](https://www.npmjs.com/package/sane-topojson) library as it provides a 'cleaned version' of the Natural Earth GIS data that can be accessed directly within node.\n",
    "\n",
    "(As opposed to the [world-atlas](https://github.com/topojson/world-atlas) library that is only accessible through CDNs)\n",
    "\n",
    "We'll be using this to:\n",
    "\n",
    "* access the country geographies that we will render\n",
    "\n",
    "## i18n-iso-countries - `countryISO`\n",
    "\n",
    "The [i18n-iso-countries](https://www.npmjs.com/package/i18n-iso-countries) library will allow us to:\n",
    "\n",
    "* identify 3 character iso codes for country names (joining)\n",
    "* verify country names that need manual alignment"
   ]
  },
  {
   "cell_type": "markdown",
   "id": "246a808d-29ae-416b-bf73-0a2a2f63f09a",
   "metadata": {},
   "source": [
    "Next we want to pull the latest gapminder data.\n",
    "\n",
    "(As an async method, we can use await to fetch the data)"
   ]
  },
  {
   "cell_type": "code",
   "execution_count": null,
   "id": "47adcc6b-ece3-4bca-ba73-d40533bc8dad",
   "metadata": {},
   "outputs": [],
   "source": [
    "utils.ijs.await(async ($$, console) => {\n",
    "    gapMinder = await utils.datasets.fetch('gapminder.json');\n",
    "    return ['gapMinder'];\n",
    "});"
   ]
  },
  {
   "cell_type": "markdown",
   "id": "ac702901-ded6-4d25-9719-e043284e85bd",
   "metadata": {},
   "source": [
    "# Understanding the data\n",
    "\n",
    "The ultimate goal is to marry the gapMinder data to the geography data.\n",
    "\n",
    "## GapMinder\n",
    "\n",
    "First we will want to understand the data in gapMinder:"
   ]
  },
  {
   "cell_type": "code",
   "execution_count": null,
   "id": "1d47fc79-10f1-4c6b-81e7-041b3d68f29c",
   "metadata": {},
   "outputs": [],
   "source": [
    "utils.object.getObjectPropertyTypes(gapMinder)"
   ]
  },
  {
   "cell_type": "markdown",
   "id": "a551aaf4-39b7-4433-a9bd-23226065f0e5",
   "metadata": {},
   "source": [
    "Next, let's see which years are available."
   ]
  },
  {
   "cell_type": "code",
   "execution_count": null,
   "id": "8a3ae471-c9a1-40a8-b8c7-6ac360cb5bc8",
   "metadata": {},
   "outputs": [],
   "source": [
    "utils.agg.unique(gapMinder, 'year');"
   ]
  },
  {
   "cell_type": "markdown",
   "id": "d26ddd44-7ce2-4557-8608-925b68cfcf3a",
   "metadata": {},
   "source": [
    "Next let's see how the data spreads across for those years"
   ]
  },
  {
   "cell_type": "code",
   "execution_count": null,
   "id": "819c2375-3499-4261-89d5-b8c7c66f9f66",
   "metadata": {},
   "outputs": [],
   "source": [
    "utils.group.by(gapMinder, 'year')\n",
    "    .reduce((recordsWithinYear) => ({ isCountryUnique: utils.aggregate.isUnique(recordsWithinYear, 'country') }));"
   ]
  },
  {
   "cell_type": "markdown",
   "id": "741ea226-66c5-43a0-b2db-9f1a62ac0ba2",
   "metadata": {},
   "source": [
    "## Distribution of Countries\n",
    "\n",
    "So lets take a look at the division of countries:"
   ]
  },
  {
   "cell_type": "code",
   "execution_count": null,
   "id": "a1dbb87b-178b-4e4d-8136-1a13dd18e101",
   "metadata": {},
   "outputs": [],
   "source": [
    "//-- prints all countries, but harder to read\n",
    "// utils.group.by(gapMinder, 'year')\n",
    "//     .reduce((yearRecords) => ({ countries: utils.agg.unique(yearRecords, 'country')}))\n",
    "\n",
    "utils.group.by(gapMinder, 'year')\n",
    "     .reduce((yearRecords) => ({ numCountries: utils.agg.unique(yearRecords, 'country').length }))"
   ]
  },
  {
   "cell_type": "markdown",
   "id": "ad2b11db-5301-4289-989a-fa85212a22af",
   "metadata": {},
   "source": [
    "How do countries change year over year?"
   ]
  },
  {
   "cell_type": "code",
   "execution_count": null,
   "id": "9d3865d7-d162-4e63-bf07-1f7e6647f817",
   "metadata": {},
   "outputs": [],
   "source": [
    "gapMinderCountries = new Set(utils.agg.unique( gapMinder.filter(r => r.year === 1955), 'country'));\n",
    "\n",
    "utils.group.by(gapMinder, 'year')\n",
    "    .reduce((yearRecords) => ({\n",
    "        countriesDiff: utils.aggregate.notIn(\n",
    "            yearRecords,\n",
    "            'country',\n",
    "            gapMinderCountries\n",
    "        )}))"
   ]
  },
  {
   "cell_type": "markdown",
   "id": "c45491c6-ff08-4bc6-a852-a9516a9fb0b4",
   "metadata": {},
   "source": [
    "Looks like the same countries are available every year"
   ]
  },
  {
   "cell_type": "markdown",
   "id": "126e5959-33ee-476e-8ed8-adfbe461cb90",
   "metadata": {},
   "source": [
    "# Translate Countries to ISO Codes\n",
    "\n",
    "So ultimately we need to translate the countries in the GapMinder set to those supported by the map\n",
    "\n",
    "(We'll come back to this under the [WorldGeography Organization - geographyDatastore section](#World-Geography-organization---geographyDatastore) below)"
   ]
  },
  {
   "cell_type": "code",
   "execution_count": null,
   "id": "62fc772b-dcec-413a-bb49-4ed9ab50e7c0",
   "metadata": {},
   "outputs": [],
   "source": [
    "topojson.feature(geographyDatastore.world_50m, 'countries').features.map(r => r.id)"
   ]
  },
  {
   "cell_type": "markdown",
   "id": "2c306fe4-92e5-43b0-8a82-5a640c7e636b",
   "metadata": {},
   "source": [
    "## Country Codes\n",
    "\n",
    "In particular - notice the `id` field under the feature,\n",
    "in this case they are the [iso 3166 standard of country codes](https://en.wikipedia.org/wiki/List_of_ISO_3166_country_codes)\n",
    "\n",
    "For example:\n",
    "\n",
    "Country name                            |Official state name             |Sovereignty|Alpha-2 code|Alpha-3 code|Numeric code|Subdivision code links|Internet ccTLD\n",
    "--                                         |--                                 |--                  |--             |--             |--             |--                       |--               \n",
    "Islamic Republic of Afghanistan Afghanistan|The Islamic Republic of Afghanistan|UN member state     |AF             |AFG            |004            |ISO 3166-2:AF            |.af \n",
    "\n",
    "Notice there are three main codes to understand:\n",
    "\n",
    "* Alpaa-3 Code - a 3 letter code for the country - ex: 'AFG'\n",
    "* Alpha-2 Code - a 2 letter code for the country - ex: 'AF'\n",
    "* Numeric Code - a numeric code for the country - ex: '004' or just '4'\n",
    "\n",
    "In the case for `sane-topojson`, it uses the three letter `Alpha-3 code`, with other cases like the [topojson/topojson](https://github.com/topojson/topojson) library, uses the Numeric code instead."
   ]
  },
  {
   "cell_type": "code",
   "execution_count": null,
   "id": "c8d72459-aaed-4ec6-806a-2253d46894d2",
   "metadata": {},
   "outputs": [],
   "source": [
    "utils.array.peekFirst(gapMinder).country;"
   ]
  },
  {
   "cell_type": "markdown",
   "id": "98825bbf-12fd-460e-b757-536f9f89722d",
   "metadata": {},
   "source": [
    "We can translate that through `countryISO.getSimpleAlpha3Code(countryName, supportedLanguage)`"
   ]
  },
  {
   "cell_type": "code",
   "execution_count": null,
   "id": "9c0ac8e9-3022-4f1c-89d1-c18a30610f2a",
   "metadata": {},
   "outputs": [],
   "source": [
    "countryISO.getSimpleAlpha3Code(\n",
    "    utils.array.peekFirst(gapMinder).country,\n",
    "    'en'\n",
    ")"
   ]
  },
  {
   "cell_type": "markdown",
   "id": "356df93d-8628-4be2-b789-43f926b41a07",
   "metadata": {},
   "source": [
    "Are there any countries that cannot be translated?"
   ]
  },
  {
   "cell_type": "code",
   "execution_count": null,
   "id": "b4164d60-ff7c-4394-ad03-516249d4e48a",
   "metadata": {},
   "outputs": [],
   "source": [
    "countriesToTranslateManually = [...gapMinderCountries].filter(\n",
    "    //-- find the ones where there is no iso translation\n",
    "    (gapMinderCountryName) => !countryISO.getSimpleAlpha3Code(gapMinderCountryName, 'en')\n",
    ");"
   ]
  },
  {
   "cell_type": "markdown",
   "id": "eb1e0d9c-b87f-44c3-889e-350105287eb6",
   "metadata": {},
   "source": [
    "Looks like all countries can be translated to ISO"
   ]
  },
  {
   "cell_type": "code",
   "execution_count": null,
   "id": "501d8a2b-4e1d-449f-95e1-31d7e54d7fd3",
   "metadata": {},
   "outputs": [],
   "source": [
    "gapMinder = gapMinder.map((record) => ({\n",
    "    ...record,\n",
    "    //-- add on the property countryISO \n",
    "    countryISO: countryISO.getSimpleAlpha3Code(record.country, 'en')\n",
    "}));\n",
    "\n",
    "utils.array.peekFirst(gapMinder);"
   ]
  },
  {
   "cell_type": "markdown",
   "id": "c51a40ca-a466-4d41-8216-10feb04e681b",
   "metadata": {},
   "source": [
    "Looks like they all were assigned, lets just verify they were all translated:"
   ]
  },
  {
   "cell_type": "code",
   "execution_count": null,
   "id": "abac6ca7-59a9-4ee9-b970-196235683fb5",
   "metadata": {},
   "outputs": [],
   "source": [
    "gapMinder.filter(r => !r.countryISO)"
   ]
  },
  {
   "cell_type": "code",
   "execution_count": null,
   "id": "df7acd85-1b10-4aea-bd6c-846c4125d467",
   "metadata": {
    "tags": []
   },
   "outputs": [],
   "source": [
    "// utils.ijs.markdown(`\n",
    "console.log(`\n",
    "## World Geography organization - geographyDatastore\n",
    "\n",
    "Now, lets look at the geography data available.\n",
    "\n",
    "The data for \\`sane-topojson\\` is stored is as follows:\n",
    "\n",
    "* \\[top level\\]\n",
    "  * document\n",
    "    * feature\n",
    "      * geometries\n",
    "\n",
    "### Document\n",
    "\n",
    "Where the documents can be found by Object.keys(atlas) and are as follows:\n",
    "\n",
    "\\`${Object.keys(geographyDatastore).join(', ')}\\`\n",
    "\n",
    "Each representing a dataset (like the world or asia) and the detail level (50m having more detail than at 110m for example)\n",
    "\n",
    "`);"
   ]
  },
  {
   "cell_type": "markdown",
   "id": "cc17aa66-44d1-497d-96d4-1f179faa9c24",
   "metadata": {},
   "source": [
    "### Features Available\n",
    "\n",
    "The Features available are under \\`geographyDatastore.[document].objects.[feature name]\\`\n",
    "\n",
    "Different documents can have different features available.\n",
    "\n",
    "In the case of the \\`sane-topojson\\`, this is the breakdown\n",
    "(it seems fairly even across)"
   ]
  },
  {
   "cell_type": "code",
   "execution_count": null,
   "id": "2b99b8c1-e141-4d44-8a83-eac7672ad1e5",
   "metadata": {},
   "outputs": [],
   "source": [
    "new utils.TableGenerator(\n",
    "    Object.keys(geographyDatastore).map((documentName) => ({\n",
    "        document: documentName,\n",
    "        featuresSupported: Object.keys(geographyDatastore[documentName].objects)\n",
    "    }))\n",
    ")\n",
    "    .render()"
   ]
  },
  {
   "cell_type": "markdown",
   "id": "2fca2488-1788-4561-81f4-a66b25cb9a76",
   "metadata": {},
   "source": [
    "## Countries\n",
    "\n",
    "However, instead of accessing directly, we would recommend you use the \"topojson\" library to access these feature:\n",
    "\n",
    "ex: topojson.feature(atlas.world_50m, 'countries')\n",
    "\n",
    "That looks like this:"
   ]
  },
  {
   "cell_type": "code",
   "execution_count": null,
   "id": "10361e5d-e65f-48fb-a42a-610cff62ab19",
   "metadata": {
    "tags": []
   },
   "outputs": [],
   "source": [
    "console.log(\n",
    "utils.format.ellipsify(\n",
    "    `topojson.feature(geographyDatastore.world_50m, 'countries'):\\n` +\n",
    "    JSON.stringify(\n",
    "        topojson.feature(geographyDatastore.world_50m, 'countries'), null, 2\n",
    "    ), 500\n",
    ")\n",
    ")"
   ]
  },
  {
   "cell_type": "markdown",
   "id": "9800bf7f-2f9b-4f7c-9699-a5c8c41a564c",
   "metadata": {},
   "source": [
    "## Making a simple Map\n",
    "\n",
    "We can use the geography data to create a simple map"
   ]
  },
  {
   "cell_type": "code",
   "execution_count": null,
   "id": "4e0cb1ca-9c44-4437-82b8-04f747bad4c3",
   "metadata": {},
   "outputs": [],
   "source": [
    "utils.vega.svgFromSpec({\n",
    "  \"$schema\": \"https://vega.github.io/schema/vega-lite/v5.json\",\n",
    "  \"width\": 500,\n",
    "  \"height\": 300,\n",
    "  \"data\": {\n",
    "    values: geographyDatastore.world_50m,\n",
    "    //-- note the feature is specific to countries - one of the features of the dataset.\n",
    "    \"format\": {\"type\": \"topojson\", \"feature\": \"countries\"}\n",
    "  },\n",
    "  //-- projection type from one of the following:\n",
    "  \"projection\": {\"type\": 'naturalEarth1'},\n",
    "  \"mark\": {\"type\": \"geoshape\", \"fill\": \"lightgray\", \"stroke\": \"gray\"}\n",
    "});\n",
    "\n",
    "//-- other projection types:\n",
    "// albers,albersUsa,azimuthalEqualArea,azimuthalEquidistant,conicConformal,\n",
    "// conicEqualArea,conicEquidistant,equalEarth,equirectangular,gnomonic,mercator,\n",
    "// naturalEarth1,orthographic,stereographic,transverseMercator"
   ]
  },
  {
   "cell_type": "markdown",
   "id": "bd2f80a8-1fff-46a0-a2e8-6b3da5b9e60e",
   "metadata": {},
   "source": [
    "What we want to do is change the color of the country based on the metric."
   ]
  },
  {
   "cell_type": "markdown",
   "id": "af342685-e13b-49e9-9ac6-2bfae8a338f2",
   "metadata": {},
   "source": [
    "# Map Countries by ISO 3166 Code\n",
    "\n",
    "In our case, the 'id' property on those features gives us the `ISO 3166 - 3 Alpha` code for the country"
   ]
  },
  {
   "cell_type": "code",
   "execution_count": null,
   "id": "00e9ffdd-4b7b-4f05-8e6c-96632b787c8d",
   "metadata": {
    "tags": []
   },
   "outputs": [],
   "source": [
    "topojson.feature(geographyDatastore.world_50m, 'countries').features.map(r => r.id)"
   ]
  },
  {
   "cell_type": "markdown",
   "id": "5d2d49ee-6745-489b-b579-078cb2092d42",
   "metadata": {},
   "source": [
    "We want to append the `properties` object for those countries to include the gapMinder data"
   ]
  },
  {
   "cell_type": "code",
   "execution_count": null,
   "id": "4a0eb1a0-1187-442f-8746-42a3712dfa75",
   "metadata": {},
   "outputs": [],
   "source": [
    "topojson.feature(geographyDatastore.world_50m, 'countries').features.filter(feature => !countryISO.isValid(feature.id))"
   ]
  },
  {
   "cell_type": "code",
   "execution_count": null,
   "id": "cc6794b4-0afc-4396-8cdc-efa6b84438e5",
   "metadata": {},
   "outputs": [],
   "source": [
    "countriesWithIsoCode = topojson.feature(geographyDatastore.world_50m, 'countries').features\n",
    "    .filter((feature) => feature.id);\n",
    "countriesWithIsoCode.length;"
   ]
  },
  {
   "cell_type": "markdown",
   "id": "a5303f0d-b292-4b33-a337-f89bb0c12334",
   "metadata": {},
   "source": [
    "Let's make a map of the countries by their isoCode"
   ]
  },
  {
   "cell_type": "code",
   "execution_count": null,
   "id": "fc306341-04e0-4a82-adfa-6e322320fc00",
   "metadata": {},
   "outputs": [],
   "source": [
    "countriesByIsoCode = utils.group.index(\n",
    "    countriesWithIsoCode, 'id'\n",
    ")\n",
    "countriesByIsoCode.size"
   ]
  },
  {
   "cell_type": "markdown",
   "id": "e6ad0b97-5197-4530-bc79-a9ebb9e7e9fe",
   "metadata": {},
   "source": [
    "## Verify GapMinder Aligns to Countries\n",
    "\n",
    "Now, lets verify  the gapMinder data to those countries"
   ]
  },
  {
   "cell_type": "markdown",
   "id": "5b187437-ea40-4a53-90bc-9c3ea94386ce",
   "metadata": {},
   "source": [
    "Lets make a set of the iso codes from within the geography"
   ]
  },
  {
   "cell_type": "code",
   "execution_count": null,
   "id": "d2f3968a-6b9d-4ae5-a98c-07f65b37abf2",
   "metadata": {},
   "outputs": [],
   "source": [
    "geographyCountryIsoCodes = new Set(Array.from(countriesByIsoCode.values()).map(r => r.id));\n",
    "geographyCountryIsoCodes.size"
   ]
  },
  {
   "cell_type": "markdown",
   "id": "11c51bd5-16b7-4d45-b91d-3eb23fded08e",
   "metadata": {},
   "source": [
    "And a set of the iso codes from within gap minder"
   ]
  },
  {
   "cell_type": "code",
   "execution_count": null,
   "id": "5945c093-a358-42dd-bfec-479c0b34a771",
   "metadata": {},
   "outputs": [],
   "source": [
    "gapMinderIsoCodes = new Set(utils.aggregate.unique(gapMinder, 'countryISO'));\n",
    "gapMinderIsoCodes.size"
   ]
  },
  {
   "cell_type": "markdown",
   "id": "7dfdce55-9d02-4357-90ba-378e08515de1",
   "metadata": {},
   "source": [
    "and see if there are any iso codes we use in gap minder that are not found:"
   ]
  },
  {
   "cell_type": "code",
   "execution_count": null,
   "id": "626d1973-aad4-491f-9a3e-3591b02f4b2d",
   "metadata": {},
   "outputs": [],
   "source": [
    "utils.set.findItemsNotContained(geographyCountryIsoCodes, gapMinderIsoCodes);"
   ]
  },
  {
   "cell_type": "markdown",
   "id": "04379425-d29a-4e32-8f91-a9229e2b455b",
   "metadata": {},
   "source": [
    "Lastly, are there any gapMinder records that do not map to any country?"
   ]
  },
  {
   "cell_type": "code",
   "execution_count": null,
   "id": "e7ad56ac-e237-44c8-9f98-5bf06578b70d",
   "metadata": {},
   "outputs": [],
   "source": [
    "gapMinder.filter((gapMinderRecord) => {\n",
    "    const countryISO = gapMinderRecord.countryISO;\n",
    "    const countryGeography = countriesByIsoCode.get(countryISO);\n",
    "    return !countryGeography\n",
    "})"
   ]
  },
  {
   "cell_type": "markdown",
   "id": "52ae6867-1903-4f4b-a141-878608bf75f5",
   "metadata": {},
   "source": [
    "Nope. Looks like we're good to go."
   ]
  },
  {
   "cell_type": "markdown",
   "id": "890caa38-9a46-48e3-a5b8-e91abf8ce87b",
   "metadata": {},
   "source": [
    "### 110m vs 50m level countries\n",
    "\n",
    "**NOTE: that the number of countires DOES change at the 110m vs the 50m size**"
   ]
  },
  {
   "cell_type": "code",
   "execution_count": null,
   "id": "bcdf6ec7-f93e-4c0b-b59c-27fa734cf61d",
   "metadata": {},
   "outputs": [],
   "source": [
    "countryCodes110m = new Set(\n",
    "    topojson.feature(geographyDatastore.world_110m, 'countries').features.map(feature => feature.id)\n",
    ");\n",
    "\n",
    "utils.set.findItemsNotContained(geographyCountryIsoCodes, countryCodes110m);"
   ]
  },
  {
   "cell_type": "markdown",
   "id": "50721965-44a8-4ac1-8496-2243fed2df1f",
   "metadata": {},
   "source": [
    "There are some countries at the 110m level that DO NOT have an id"
   ]
  },
  {
   "cell_type": "code",
   "execution_count": null,
   "id": "5e46d015-2c5a-407f-982a-8c61b83f8604",
   "metadata": {},
   "outputs": [],
   "source": [
    "topojson.feature(geographyDatastore.world_110m, 'countries').features.filter(feature => !feature.id).length"
   ]
  },
  {
   "cell_type": "markdown",
   "id": "44495fe2-1029-4140-b647-64251919f37e",
   "metadata": {},
   "source": [
    "And there are 63 countries at the 50m level NOT in the 110m level"
   ]
  },
  {
   "cell_type": "code",
   "execution_count": null,
   "id": "0d53324a-8c76-455c-af2a-11030255fbdc",
   "metadata": {},
   "outputs": [],
   "source": [
    "Array.from(\n",
    "    utils.set.findItemsNotContained(countryCodes110m, geographyCountryIsoCodes)\n",
    ")"
   ]
  },
  {
   "cell_type": "markdown",
   "id": "d767bd23-4cb5-4aab-91b1-074514d36bc5",
   "metadata": {},
   "source": [
    "# Making maps"
   ]
  },
  {
   "cell_type": "markdown",
   "id": "462043d7-0c6c-4477-818f-56c2647fa2df",
   "metadata": {},
   "source": [
    "As a refresher, we can make a simple map like so:"
   ]
  },
  {
   "cell_type": "code",
   "execution_count": null,
   "id": "bde513a2-b62a-42a5-838a-231dc9e1d3dc",
   "metadata": {},
   "outputs": [],
   "source": [
    "utils.vega.svgFromSpec({\n",
    "  \"$schema\": \"https://vega.github.io/schema/vega-lite/v5.json\",\n",
    "  \"width\": 500,\n",
    "  \"height\": 300,\n",
    "  \"data\": {\n",
    "    values: geographyDatastore.world_50m,\n",
    "    //-- note the feature is specific to countries - one of the features of the dataset.\n",
    "    \"format\": {\"type\": \"topojson\", \"feature\": \"countries\"}\n",
    "  },\n",
    "  //-- projection type from one of the following:\n",
    "  \"projection\": {\"type\": 'naturalEarth1'},\n",
    "  \"mark\": {\"type\": \"geoshape\", \"fill\": \"lightgray\", \"stroke\": \"gray\"}\n",
    "});\n",
    "\n",
    "//-- other projection types:\n",
    "// albers,albersUsa,azimuthalEqualArea,azimuthalEquidistant,conicConformal,\n",
    "// conicEqualArea,conicEquidistant,equalEarth,equirectangular,gnomonic,mercator,\n",
    "// naturalEarth1,orthographic,stereographic,transverseMercator"
   ]
  },
  {
   "cell_type": "markdown",
   "id": "caa57dbc-6fcd-4580-af44-565268ca004e",
   "metadata": {},
   "source": [
    "## Merge the Data\n",
    "\n",
    "For simplicity's sake, we will update the records on the Geography to have a `mapValue` property.\n",
    "\n",
    "(There are ways to do the transformations within Vega, but they are complex and difficult to troubleshoot,\n",
    "so we will handle them in a different doc, with an example below just for demonstration).\n",
    "\n",
    "### Transformation function\n",
    "\n",
    "Function that determines a metric for a given year and countryISO code"
   ]
  },
  {
   "cell_type": "code",
   "execution_count": null,
   "id": "dafa7484-f6e4-491f-9cda-84acb734bec9",
   "metadata": {},
   "outputs": [],
   "source": [
    "getCountryValue = (metric, year, countryISO) => utils.array.peekFirst(\n",
    "        gapMinder.filter((r) => r.year === year && r.countryISO === countryISO),\n",
    "        {}\n",
    "    )[metric];"
   ]
  },
  {
   "cell_type": "markdown",
   "id": "c928f46d-dda9-47f2-83dd-9fca3f7e5ad6",
   "metadata": {},
   "source": [
    "Let's verify it gets us a value for a specific year and date"
   ]
  },
  {
   "cell_type": "code",
   "execution_count": null,
   "id": "2d799f89-dc86-42f7-93ae-fb22ae5f1914",
   "metadata": {},
   "outputs": [],
   "source": [
    "getCountryValue('life_expect', 1955, 'AFG');"
   ]
  },
  {
   "cell_type": "markdown",
   "id": "b5b9414f-3e23-47be-9035-04ad7d7c75ed",
   "metadata": {},
   "source": [
    "Next, lets verify the value returns null, if the record cannot be found"
   ]
  },
  {
   "cell_type": "code",
   "execution_count": null,
   "id": "ae12a9ba-f081-4b23-87bc-4f2c03c51fb4",
   "metadata": {},
   "outputs": [],
   "source": [
    "getCountryValue('life_expect', 1955, null) === null"
   ]
  },
  {
   "cell_type": "markdown",
   "id": "3190585e-87e4-4d2b-9edd-75924dc9e58f",
   "metadata": {},
   "source": [
    "## Create the Choropleth Data\n",
    "\n",
    "Now let's create a specific version of the data we can use for charting.\n",
    "\n",
    "(Note - in an immutable manner to avoid race conditions between cells)"
   ]
  },
  {
   "cell_type": "code",
   "execution_count": null,
   "id": "e71cbefe-c1fa-4b92-abec-34c7c72a5618",
   "metadata": {},
   "outputs": [],
   "source": [
    "generateMapData = (metric, year) => topojson.feature(geographyDatastore.world_50m, 'countries')\n",
    "    .features\n",
    "    .map((entry) => ({ mapValue: getCountryValue(metric, year, entry.id), ...entry }));"
   ]
  },
  {
   "cell_type": "markdown",
   "id": "e2af22cb-355c-4e2b-ab8f-2de23db0dd9f",
   "metadata": {},
   "source": [
    "Then we check if it worked"
   ]
  },
  {
   "cell_type": "code",
   "execution_count": null,
   "id": "5a0efbdb-406b-4672-8855-208312ee78ce",
   "metadata": {},
   "outputs": [],
   "source": [
    "utils.array.peekFirst(gapMinder)"
   ]
  },
  {
   "cell_type": "markdown",
   "id": "5b26e4e9-3ed8-4295-b495-e6eec2afbdd5",
   "metadata": {},
   "source": [
    "and then check the country for that year"
   ]
  },
  {
   "cell_type": "code",
   "execution_count": null,
   "id": "c52da228-9b4e-444a-a7e0-bd1d371367ef",
   "metadata": {},
   "outputs": [],
   "source": [
    "generateMapData('pop', 1955)\n",
    "    .filter(entry => entry.id === 'AFG')"
   ]
  },
  {
   "cell_type": "markdown",
   "id": "34304a4c-dd71-47d2-a134-3557ea9dc90c",
   "metadata": {},
   "source": [
    "It looks like the two numbers match, so let's run the chart."
   ]
  },
  {
   "cell_type": "markdown",
   "id": "9fe30264-40fb-4547-bcbd-034c1fe9a137",
   "metadata": {},
   "source": [
    "## Create the Choropleth"
   ]
  },
  {
   "cell_type": "markdown",
   "id": "24c0d675-bf92-4b46-ad17-3a62e5d4923e",
   "metadata": {},
   "source": [
    "We can create the map for each of the countries that have values, and for a specific year."
   ]
  },
  {
   "cell_type": "code",
   "execution_count": null,
   "id": "57566bdf-cc69-43e1-bba3-eaa0ba177142",
   "metadata": {},
   "outputs": [],
   "source": [
    "utils.vega.svgFromSpec({\n",
    "  \"$schema\": \"https://vega.github.io/schema/vega-lite/v5.json\",\n",
    "  \"mark\": {\n",
    "    \"type\": \"geoshape\",\n",
    "    \"stroke\": \"white\"\n",
    "  },\n",
    "  \"data\": {\n",
    "      \"values\": generateMapData('life_expect', 1955)\n",
    "  },\n",
    "  \"encoding\": {\n",
    "    \"color\": {\n",
    "      \"field\": \"mapValue\",\n",
    "      \"type\": \"quantitative\",\n",
    "      \"scale\": {\n",
    "        \"scheme\": \"spectral\"\n",
    "      }\n",
    "    }\n",
    "  },\n",
    "  \"projection\": {\n",
    "    \"type\": \"naturalEarth1\",\n",
    "  },\n",
    "  \"width\": 900,\n",
    "  \"height\": 500\n",
    "});"
   ]
  },
  {
   "cell_type": "markdown",
   "id": "79732e4e-595e-432d-bd10-09fe2823c56d",
   "metadata": {},
   "source": [
    "## Why are the other countries missing?\n",
    "    \n",
    "Vega-Lite removes records with null values. [See issue #3261 for more](https://github.com/vega/vega-lite/issues/3261)\n",
    "                                                                       \n",
    "We want instead to show those countries, but have then show up as grey.\n",
    "                                                                       \n",
    "To show the null values you must add in the following `config`:\n",
    "\n",
    "```\n",
    "  \"config\": {\n",
    "    \"mark\": {\"invalid\": null}\n",
    "  }\n",
    "```\n",
    "\n",
    "We also want to show the null values as our own color of our choosing,\n",
    "so we add a conditional to explicitly set the color:\n",
    "\n",
    "```\n",
    "{ \"condition\": {\n",
    "    \"test\": { not: \"isDefined(datum.mapValue)\" },\n",
    "    \"value\": \"darkgrey\"\n",
    "}\n",
    "```\n",
    "\n",
    "Changing the `color` attribute to:\n",
    "\n",
    "```\n",
    "    \"color\": {\n",
    "      \"condition\": {\n",
    "        \"test\": { not: \"isDefined(datum.mapValue)\" },\n",
    "        \"value\": \"darkgrey\"\n",
    "      },\n",
    "      \"field\": \"mapValue\",\n",
    "      \"type\": \"quantitative\",\n",
    "      \"scale\": {\n",
    "        \"scheme\": \"spectral\"\n",
    "      }\n",
    "    }\n",
    "```"
   ]
  },
  {
   "cell_type": "markdown",
   "id": "55549313-2f9a-4a5a-808c-734302477194",
   "metadata": {},
   "source": [
    "With the full spec as follows:"
   ]
  },
  {
   "cell_type": "code",
   "execution_count": null,
   "id": "8901b06c-527b-4d23-b814-f3a87f09f468",
   "metadata": {},
   "outputs": [],
   "source": [
    "utils.vega.svgFromSpec({\n",
    "  \"$schema\": \"https://vega.github.io/schema/vega-lite/v5.json\",\n",
    "  \"mark\": {\n",
    "    \"type\": \"geoshape\",\n",
    "    \"stroke\": \"white\"\n",
    "  },\n",
    "  \"data\": {\n",
    "      \"values\": generateMapData('life_expect', 1955)\n",
    "  },\n",
    "  \"encoding\": {\n",
    "    \"color\": {\n",
    "      \"condition\": {\n",
    "        \"test\": { not: \"isDefined(datum.mapValue)\" },\n",
    "        \"value\": \"darkgrey\"\n",
    "      },\n",
    "      \"field\": \"mapValue\",\n",
    "      \"type\": \"quantitative\",\n",
    "      \"scale\": {\n",
    "        \"scheme\": \"spectral\"\n",
    "      }\n",
    "    }\n",
    "  },\n",
    "  \"projection\": {\n",
    "    \"type\": \"naturalEarth1\",\n",
    "  },\n",
    "  \"width\": 900,\n",
    "  \"height\": 500,\n",
    "  \"config\": {\n",
    "    \"mark\": {\"invalid\": null}\n",
    "  }\n",
    "});"
   ]
  },
  {
   "cell_type": "markdown",
   "id": "9b06f33c-abba-4916-8cf4-cd30013dad42",
   "metadata": {},
   "source": [
    "# Bonus\n",
    "\n",
    "@TODO\n",
    "\n",
    "While we said we wouldn't get into it further in this document,\n",
    "here is an example that instead aligns the gapMinder values within the Vega-Lite specification:\n",
    "\n",
    "* data of the geographyStore is loaded the same as above\n",
    "* it is then transformed through the [lookup](https://vega.github.io/vega-lite-v3/docs/lookup.html)\n",
    "  * copying the `life_expect`, `pop` and `fertility` fields over\n",
    "* the field we want can be 'parameterized' under params as the 'chartField' variable\n",
    "* we then calculate a new value called `chartValue` based on the param\n",
    "* default colors are set the same as above"
   ]
  },
  {
   "cell_type": "code",
   "execution_count": null,
   "id": "e867de59-38dd-4e0a-8583-e506f8e01d97",
   "metadata": {},
   "outputs": [],
   "source": [
    "utils.vega.svgFromSpec({\n",
    "  \"$schema\": \"https://vega.github.io/schema/vega-lite/v5.json\",\n",
    "  \"params\": [\n",
    "    { \"name\": \"chartField\", \"value\": \"life_expect\"}\n",
    "  ],\n",
    "  \"width\": 900,\n",
    "  \"height\": 500,\n",
    "  \"data\": {\n",
    "    // \"url\": \"https://vega.github.io/vega-lite/examples/data/us-10m.json\",\n",
    "    \"values\": geographyDatastore.world_50m,\n",
    "    \"format\": {\n",
    "      \"type\": \"topojson\",\n",
    "      \"feature\": \"countries\"\n",
    "    }\n",
    "  },\n",
    "\n",
    "  \"transform\": [{\n",
    "    \"type\": \"lookup\",\n",
    "    \"lookup\": \"id\",\n",
    "    \"from\": {\n",
    "      \"data\": {\n",
    "        \"values\": gapMinder.filter(r => r.year === 1955)\n",
    "      },\n",
    "      \"fields\": [\"life_expect\", \"pop\", \"fertility\"],\n",
    "      \"key\": \"countryISO\"\n",
    "    }\n",
    "  },\n",
    "  {\n",
    "    \"calculate\": \"datum[chartField]\",\n",
    "    \"as\": \"chartValue\",\n",
    "  }],\n",
    "  \"projection\": {\n",
    "    \"type\": \"naturalEarth1\"\n",
    "  },\n",
    "  \"mark\": \"geoshape\",\n",
    "  \"encoding\": {\n",
    "    \"color\": {\n",
    "      \"condition\": {\n",
    "        \"test\": \"datum.chartValue === null\",\n",
    "        \"value\": \"darkgrey\"\n",
    "      },\n",
    "      \"field\": \"chartValue\",\n",
    "      \"type\": \"quantitative\",\n",
    "      \"scale\": {\n",
    "        \"scheme\": \"spectral\"\n",
    "      },\n",
    "    }\n",
    "  },\n",
    "  \"config\": {\n",
    "    \"mark\": {\"invalid\": null}\n",
    "  }\n",
    "});"
   ]
  },
  {
   "cell_type": "code",
   "execution_count": null,
   "id": "5cf60ddf-bc6f-4ae0-953a-bf1ec7f6e0b8",
   "metadata": {},
   "outputs": [],
   "source": [
    "utils.vega.svgFromSpec({\n",
    "  \"$schema\": \"https://vega.github.io/schema/vega-lite/v5.json\",\n",
    "  \"width\": 500,\n",
    "  \"height\": 300,\n",
    "  \"data\": {\n",
    "    \"url\": \"https://vega.github.io/vega-lite/examples/data/us-10m.json\",\n",
    "    \"format\": {\n",
    "      \"type\": \"topojson\",\n",
    "      \"feature\": \"counties\"\n",
    "    }\n",
    "  },\n",
    "  \"transform\": [{\n",
    "    \"lookup\": \"id\",\n",
    "    \"from\": {\n",
    "      \"data\": {\n",
    "        \"url\": \"https://vega.github.io/vega-lite/examples/data/unemployment.tsv\"\n",
    "      },\n",
    "      \"key\": \"id\",\n",
    "      \"fields\": [\"rate\"]\n",
    "    }\n",
    "  }],\n",
    "  \"projection\": {\n",
    "    \"type\": \"albersUsa\"\n",
    "  },\n",
    "  \"mark\": \"geoshape\",\n",
    "  \"encoding\": {\n",
    "    \"color\": {\n",
    "      \"field\": \"rate\",\n",
    "      \"type\": \"quantitative\"\n",
    "    }\n",
    "  }\n",
    "});\n"
   ]
  },
  {
   "cell_type": "markdown",
   "id": "8d6cb246-f987-49b2-a931-6f33cd9d5731",
   "metadata": {},
   "source": [
    "# Appendix\n",
    "\n",
    "## Other Formats\n",
    "\n",
    "### ShapeFile\n",
    "\n",
    "One of the more heavily standardized formats are ShapeFiles - meant as a way to spacially describe vector features: points, lines, and polygons, representing, for example, water wells, rivers, and lakes. Each item usually has attributes that describe it, such as name or temperature. The format is meant to provide a standard for interoperability between ESRI systems and other GIS software.\n",
    "\n",
    "The [ShapeFile](https://en.wikipedia.org/wiki/Shapefile) format is a semi-open standard designed and regulated by [Environmental Systems Research Institute - ESRI](https://en.wikipedia.org/wiki/Esri) - an international supplier of [GIS - GeoCoded data](https://en.wikipedia.org/wiki/Geographic_information_system).\n",
    "\n",
    "### GeoJSON\n",
    "\n",
    "An alternative format is [GeoJSON](https://geojson.org/) is an [open standard format - rfc7946](https://tools.ietf.org/html/rfc7946) designed for representing simple geographical features, along with their non-spatial attributes and is based on the JSON format.\n",
    "\n",
    "Various providers, like [Natural Earth](https://www.naturalearthdata.com/) "
   ]
  }
 ],
 "metadata": {
  "kernelspec": {
   "display_name": "JavaScript (Node.js)",
   "language": "javascript",
   "name": "javascript"
  },
  "language_info": {
   "file_extension": ".js",
   "mimetype": "application/javascript",
   "name": "javascript",
   "version": "18.12.1"
  }
 },
 "nbformat": 4,
 "nbformat_minor": 5
}
