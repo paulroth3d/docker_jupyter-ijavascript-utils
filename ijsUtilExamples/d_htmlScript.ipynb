{
 "cells": [
  {
   "cell_type": "markdown",
   "id": "a5ea5944-e1b9-4325-b705-2c33422421fd",
   "metadata": {},
   "source": [
    "There may be times you would like to leverage client (browser side) technologies, \n",
    "such as CDN libraries to do things you couldn't do in Jupyter otherwise\n",
    "\n",
    "![Screenshot of QR Code](../img/htmlScript_qrCode.png)\n",
    "\n",
    "...make things interactive,\n",
    "\n",
    "![Screenshot of sliders with Vega Lite](../img/vegaLiteSliders.png)\n",
    "\n",
    "...or even show animations\n",
    "\n",
    "![circle animation](../img/svgAnimation2Dark.gif)\n",
    "\n",
    "**then you need to render client side / on the browser**\n",
    "using JavaScript (with a little bit of HTML)\n",
    "\n",
    "This is the purpose of [ijs.htmlScript()](https://jupyter-ijavascript-utils.onrender.com/module-ijs.html#.htmlScript)\n",
    "\n",
    "# When to use the HTML Script?\n",
    "\n",
    "Give it a try if you want to:\n",
    "\n",
    "* execute javascript on the browser / client side\n",
    "* Run animations\n",
    "* Allow cell results to be 'interactive'\n",
    "\n",
    "The purpose of the method is to:\n",
    "\n",
    "* load javascript / css etc in a dependably serial way.\n",
    "    * (Note that by rendering output, browsers use dynamic html, and therefore may load before scripts, and also do not load in order)\n",
    "* Execute JavaScript once 'ready'\n",
    "\n",
    "## When Not To Use It\n",
    "\n",
    "**NOTE: the iJavaScript team worked very hard on various export formats**\n",
    "\n",
    "Such as:\n",
    "\n",
    "* `$$.html(string)` - render a string as html in the output\n",
    "* `$$.svg(string)` - render a string as svg directly in the output\n",
    "\n",
    "etc.\n",
    "\n",
    "If you simply wish to generate out html and svg and just render it to output,\n",
    "perhaps the `htmlScript` isn't needed."
   ]
  },
  {
   "cell_type": "markdown",
   "id": "792ddda1-60d6-4278-8ec0-71819401a238",
   "metadata": {},
   "source": [
    "Jupyter Notebooks run JavaScript, but within a Node kernel (environment).\n",
    "\n",
    "In the case for htmlScript, we can serialize the `onReady` function,\n",
    "and ensure the dynamic loading of the required scripts are indeed serial,\n",
    "so we can dependably load javascript in order and then run code in the browser.\n",
    "\n",
    "![Sequence Diagram for HTML Script execution](../img/architecture_output19.svg)\n",
    "\n",
    "Please see the Client Side / HTML Script section in the {@tutorial architecture} document for more.\n",
    "\n",
    "More is also available on the {@link module:ijs.htmlScript} documentation page"
   ]
  },
  {
   "cell_type": "code",
   "execution_count": null,
   "id": "cfabb9ff-73e7-4bba-8728-01b0fad14487",
   "metadata": {},
   "outputs": [],
   "source": [
    "utils = require('jupyter-ijavascript-utils');\n",
    "['utils loaded']"
   ]
  },
  {
   "cell_type": "markdown",
   "id": "7e7b9fa2-2e8b-48b4-a912-3d883433efbc",
   "metadata": {},
   "source": [
    "## For a simple example\n",
    "\n",
    "We would like to pull in a script off a CDN, and tell it to run some JavaScript when the script finished loading.\n",
    "\n",
    "Note in this case, the onReady function is passed a single argument with child properties.\n",
    "\n",
    "We only need to grab the properties we care about (through [descructuring](https://developer.mozilla.org/en-US/docs/Web/JavaScript/Reference/Operators/Destructuring_assignment)).\n",
    "                                                                           \n",
    "In this case, the `onReady` element that is specific to this result render is then passed and used in JavaScript code.\n",
    "                                            "
   ]
  },
  {
   "cell_type": "code",
   "execution_count": null,
   "id": "83c0929a-c873-470d-94d5-3a02a10a9560",
   "metadata": {},
   "outputs": [],
   "source": [
    "utils.ijs.htmlScript({\n",
    "    scripts: ['https://cdnjs.cloudflare.com/ajax/libs/qrcodejs/1.0.0/qrcode.min.js'],\n",
    "    height: '100%',\n",
    "    html: '<p>You can also include html, and then reference it as a child of the rootEl element</p>',\n",
    "    onReady: ({rootEl}) => {\n",
    "        new QRCode(rootEl, \"https://jupyter-ijavascript-utils.onrender.com/\");\n",
    "    }\n",
    "});"
   ]
  },
  {
   "cell_type": "markdown",
   "id": "20801676-19c3-4eaf-a4ed-d941f03700c8",
   "metadata": {},
   "source": [
    "![Screenshot of QR Code](../img/htmlScript_qrCode.png)"
   ]
  },
  {
   "cell_type": "markdown",
   "id": "9441affd-9db9-4502-92b5-64d8334118d0",
   "metadata": {},
   "source": [
    "# onReady and Client Side JavaScript\n",
    "\n",
    "The code we are writing in this case is technically NodeJS, but `htmlScript` packages up the onReady definition to be executed by the browser in JavaScript.\n",
    "\n",
    "Only the code specified in the `onReady` and `utilityScripts` parameters are converted to JavaScript, and at this time **we do not use transpilers in conversion**.\n",
    "\n",
    "This means that only variables and values passed in the options are available.\n",
    "\n",
    "## Simple Failure Example\n",
    "\n",
    "Said the other way, this following example will not work - because libraries and variables are defined outside of the function and not included in the bundle.\n",
    "\n",
    "In this case we are referencing the node variable of `utils` - used in the notebook.\n",
    "\n",
    "But quite nicely, we can use the Browser Inspector and tell what is wrong. (Or even do step-by-step debugging)"
   ]
  },
  {
   "cell_type": "code",
   "execution_count": null,
   "id": "78c10624-938b-4569-9410-930db50d4019",
   "metadata": {},
   "outputs": [],
   "source": [
    "utils.ijs.htmlScript({\n",
    "    height: 200,\n",
    "    onReady: ({ rootEl }) => {\n",
    "        longString = \"I am the very model of a modern major general. I've information animal, vegitable and mineral...\";\n",
    "        rootEl.innerHTML = `Hello! This text is ellipsified: ${utils.ellipsify(longString)}`;\n",
    "    }\n",
    "})"
   ]
  },
  {
   "cell_type": "markdown",
   "id": "d4b1d868-f22f-4d89-b513-a709e2011985",
   "metadata": {},
   "source": [
    "![Screenshot of browser inspector and error](../img/htmlScript_simpleError.jpg)"
   ]
  },
  {
   "cell_type": "markdown",
   "id": "f7017227-9036-428a-986f-fed9c938e0c4",
   "metadata": {},
   "source": [
    "## Fixing the Example - UtilityFunctions\n",
    "\n",
    "Instead, if we can define functions with everything needed for it to run within, we can pass it to the browser through `utilityFunctions`.\n",
    "\n",
    "Every function passed within that object will be available on the Browser / Client side."
   ]
  },
  {
   "cell_type": "code",
   "execution_count": null,
   "id": "29d87331-8624-4752-9a75-cfb066a0b26f",
   "metadata": {},
   "outputs": [],
   "source": [
    "utils.ijs.htmlScript({\n",
    "    height: 200,\n",
    "    utilityFunctions: ({ \n",
    "        message: () => 'Hello!',\n",
    "        ellipsify: utils.format.ellipsify\n",
    "    }),\n",
    "    onReady: ({ rootEl, utilityFunctions }) => {\n",
    "        longString = \"I am the very model of a modern major general. I've information animal, vegitable and mineral...\";\n",
    "        rootEl.innerHTML = `${utilityFunctions.message()} - This text is ellipsified: ${utilityFunctions.ellipsify(longString, 10)}`;\n",
    "    }\n",
    "})"
   ]
  },
  {
   "cell_type": "markdown",
   "id": "8f7c9f8c-207d-4744-9e55-e971cfa470a1",
   "metadata": {},
   "source": [
    "![Screenshot of utility functions to save the day](../img/htmlScript_utilityFunctions.jpg)"
   ]
  },
  {
   "cell_type": "markdown",
   "id": "306825b0-5e89-471d-a8ed-ad2dc0a19613",
   "metadata": {},
   "source": [
    "## Fixing the Example - Sending Data\n",
    "\n",
    "What if we need data values?\n",
    "    \n",
    "Not to worry, use the `data` parameter.\n",
    "\n",
    "You can then accept the JavaScript version of that variable in the `onReady` function\n",
    "and continue right where you left off."
   ]
  },
  {
   "cell_type": "code",
   "execution_count": null,
   "id": "2cf54b96-35a7-439c-8b90-7927d93f119d",
   "metadata": {},
   "outputs": [],
   "source": [
    "nodeMessage = 'Hello from NodeJS!';\n",
    "\n",
    "utils.ijs.htmlScript({\n",
    "    height: 200,\n",
    "    data: ({ message: nodeMessage }),\n",
    "    utilityFunctions: ({ \n",
    "        ellipsify: utils.format.ellipsify\n",
    "    }),\n",
    "    onReady: ({ rootEl, utilityFunctions, data }) => {\n",
    "        longString = \"I am the very model of a modern major general. I've information animal, vegitable and mineral...\";\n",
    "        rootEl.innerHTML = `${data.message} - This text is ellipsified: ${utilityFunctions.ellipsify(longString, 10)}`;\n",
    "    }\n",
    "})"
   ]
  },
  {
   "cell_type": "markdown",
   "id": "f2519221-71c5-4df8-8b6d-d0111cc81704",
   "metadata": {},
   "source": [
    "![Screenshot with data](../img/htmlScript_data.jpg)"
   ]
  },
  {
   "cell_type": "markdown",
   "id": "4a5eba61-6a20-416d-8b36-4c6137324a36",
   "metadata": {},
   "source": [
    "## Advanced Examples\n",
    "\n",
    "HTML Script is then used underneath the sheets for a couple other features.\n",
    "\n",
    "For example: Leaflet"
   ]
  },
  {
   "cell_type": "code",
   "execution_count": null,
   "id": "b1ade801-2765-4fa0-9d05-78303afe1cf4",
   "metadata": {},
   "outputs": [],
   "source": [
    "//-- nodeJS Variable\n",
    "airportData = { ohareORD: { lat: 41.975813, lon: -87.909428, title: \"O'Hare Intl Airport\" } };\n",
    "//-- render out html\n",
    "utils.ijs.htmlScript({\n",
    "    scripts: ['https://unpkg.com/leaflet@1.6.0/dist/leaflet.js',\n",
    "              'https://unpkg.com/leaflet-providers@1.13.0/leaflet-providers.js'],\n",
    "    css: ['https://unpkg.com/leaflet@1.6.0/dist/leaflet.css'],\n",
    "    data: airportData,\n",
    "    height: 150,\n",
    "    //-- function will be executed in javaScript\n",
    "    onReady: ({rootEl, data}) => {\n",
    "        // L is globally available from the leaflet.js script.\n",
    "        \n",
    "        //-- capture the nodeJS data and use in JavaScript. Neat!\n",
    "        ohareORD = data.ohareORD;\n",
    "\n",
    "        map = L.map(rootEl);\n",
    "        map.setView([ohareORD.lat, ohareORD.lon], 14);\n",
    "        \n",
    "        new L.marker([ohareORD.lat, ohareORD.lon]).bindPopup(ohareORD.title).addTo(map);\n",
    "        \n",
    "        L.tileLayer('https://{s}.tile.openstreetmap.org/{z}/{x}/{y}.png', {\n",
    "           attribution: '&copy; <a href=\"https://www.openstreetmap.org/copyright\">OpenStreetMap</a> contributors'\n",
    "        }).addTo(map);\n",
    "    }\n",
    "});"
   ]
  },
  {
   "cell_type": "markdown",
   "id": "e8b458f3-cbc3-4895-8728-3abf80c51898",
   "metadata": {},
   "source": [
    "![Screenshot of Leaflet](../img/htmlScript_leaflet.png)"
   ]
  },
  {
   "cell_type": "markdown",
   "id": "b79a22fa-0c73-4982-8bc9-27ea03e533db",
   "metadata": {},
   "source": [
    "## Many Possibilities\n",
    "\n",
    "Using HTMLScript, it became possible to run embedded Vega or Vega Lite for interactivity:\n",
    "(Like with interactive sliders to understand the data)"
   ]
  },
  {
   "cell_type": "code",
   "execution_count": null,
   "id": "e69a2359-aa6d-4f29-b064-4df93453adb1",
   "metadata": {},
   "outputs": [],
   "source": [
    "vegaSpec = {\n",
    "  //-- spec from the example\n",
    "  \"$schema\": \"https://vega.github.io/schema/vega-lite/v5.json\",\n",
    "  \"description\": \"Drag the sliders to highlight points.\",\n",
    "  \"data\": {\"url\": \"https://vega.github.io/vega-lite/examples/data/cars.json\"},\n",
    "  \"transform\": [{\"calculate\": \"year(datum.Year)\", \"as\": \"Year\"}],\n",
    "  \"layer\": [{\n",
    "    \"params\": [{\n",
    "      \"name\": \"CylYr\",\n",
    "      \"value\": [{\"Cylinders\": 4, \"Year\": 1977}],\n",
    "      \"select\": {\"type\": \"point\", \"fields\": [\"Cylinders\", \"Year\"]},\n",
    "      \"bind\": {\n",
    "        \"Cylinders\": {\"input\": \"range\", \"min\": 3, \"max\": 8, \"step\": 1},\n",
    "        \"Year\": {\"input\": \"range\", \"min\": 1969, \"max\": 1981, \"step\": 1}\n",
    "      }\n",
    "    }],\n",
    "    \"mark\": \"circle\",\n",
    "    \"encoding\": {\n",
    "      \"x\": {\"field\": \"Horsepower\", \"type\": \"quantitative\"},\n",
    "      \"y\": {\"field\": \"Miles_per_Gallon\", \"type\": \"quantitative\"},\n",
    "      \"color\": {\n",
    "        \"condition\": {\"param\": \"CylYr\", \"field\": \"Origin\", \"type\": \"nominal\"},\n",
    "        \"value\": \"grey\"\n",
    "      }\n",
    "    }\n",
    "  }, {\n",
    "    \"transform\": [{\"filter\": {\"param\": \"CylYr\"}}],\n",
    "    \"mark\": \"circle\",\n",
    "    \"encoding\": {\n",
    "      \"x\": {\"field\": \"Horsepower\", \"type\": \"quantitative\"},\n",
    "      \"y\": {\"field\": \"Miles_per_Gallon\", \"type\": \"quantitative\"},\n",
    "      \"color\": {\"field\": \"Origin\", \"type\": \"nominal\"},\n",
    "      \"size\": {\"value\": 100}\n",
    "    }\n",
    "  }]\n",
    "};\n",
    "utils.vega.embedFromSpec(vegaSpec);"
   ]
  },
  {
   "cell_type": "markdown",
   "id": "146bc8c2-6663-447a-af11-0ba9b1f8e981",
   "metadata": {},
   "source": [
    "![Screenshot of sliders with Vega Lite](../img/vegaLiteSliders.png)"
   ]
  },
  {
   "cell_type": "markdown",
   "id": "4c1c1523-66ed-4c6d-9eb4-b47d143675da",
   "metadata": {},
   "source": [
    "We would love to hear which libraries have been helpful for you, and pull requests are welcome."
   ]
  },
  {
   "cell_type": "markdown",
   "id": "5755f40c-0bb6-4dd3-9688-eea3b6833ff4",
   "metadata": {},
   "source": [
    "# Exploring onReady\n",
    "\n",
    "The `onReady` function has a number of values sent to it,\n",
    "and they are sent by a single object that can be destructured\n",
    "for easier use.\n",
    "\n",
    "* `rootEl` - an Html Div Element made special for this render that you can append to and modify\n",
    "* `data` - this is the serialized data passed in the `options` to htmlScript - as a simple bridge to pass NodeJS values to your function\n",
    "* `scripts` - array of javaScript files loaded serially before onReady is called\n",
    "* `css` - array of css files to load\n",
    "* `html` - string of html to render within the `rootEl` element, such as `<svg />` - that could be accessed as rootEl.firstChild for d3\n",
    "* `width` - the css style width to apply to the root div\n",
    "* `height`- the css style height to apply to the root div\n",
    "* `debug` - boolean on whether to include a `debugger` within `onReady` to troubleshoot your javascript code.\n",
    "* `console` - boolean on whether to include console statements at the start and end of onReady - to identify if javaScript silently failed.\n",
    "\n",
    "Here is an example with `d3` that uses most of these attributes:"
   ]
  },
  {
   "cell_type": "code",
   "execution_count": null,
   "id": "0ff82bbe-2ff1-47e1-beef-042ccf38e584",
   "metadata": {},
   "outputs": [],
   "source": [
    "//-- load the data, to allow the example to work everywhere.\n",
    "utils.ijs.await(async($$,console) => {\n",
    "    nigeriaPopulation = await utils.datasets.fetchJSON('https://raw.githubusercontent.com/iamspruce/intro-d3/main/data/nigeria-states.json');\n",
    "    console.log('nigeria data loaded');\n",
    "});"
   ]
  },
  {
   "cell_type": "code",
   "execution_count": null,
   "id": "4ef956b8-bdf7-4b5f-a949-b43eea92f5c7",
   "metadata": {},
   "outputs": [],
   "source": [
    "utils.ijs.htmlScript({\n",
    "scripts: ['https://cdnjs.cloudflare.com/ajax/libs/d3/6.7.0/d3.min.js'],\n",
    "height: '100%',\n",
    "html: '<svg />',\n",
    "data: nigeriaPopulation,\n",
    "onReady: ({rootEl, data, options}) => {\n",
    "    console.log('d3 loaded' + (typeof d3));\n",
    "    \n",
    "    // set the dimensions and margins of the graph\n",
    "    const margin = { top: 20, right: 30, bottom: 55, left: 70 },\n",
    "        width = document.querySelector(\"body\").clientWidth,\n",
    "        height = 800;\n",
    "\n",
    "    const svg = d3.select(rootEl.firstChild).attr(\n",
    "        \"viewBox\",\n",
    "        [0, 0, width, height]\n",
    "    );\n",
    "\n",
    "    // add title\n",
    "    svg\n",
    "        .append(\"text\")\n",
    "        .attr(\"x\", width / 2)\n",
    "        .attr(\"y\", margin.top + 2)\n",
    "        .attr(\"text-anchor\", \"middle\")\n",
    "        .style(\"font-size\", \"22px\")\n",
    "        .style(\"text-decoration\", \"underline\")\n",
    "        .text(\"Nigeria States Population\");\n",
    "\n",
    "    const x_scale = d3\n",
    "        .scaleBand()\n",
    "        .range([margin.left, width - margin.right])\n",
    "        .padding(0.1);\n",
    "\n",
    "    const y_scale = d3.scaleLinear().range([height - margin.bottom, margin.top]);\n",
    "\n",
    "    let x_axis = d3.axisBottom(x_scale);\n",
    "\n",
    "    let y_axis = d3.axisLeft(y_scale);\n",
    "    data.forEach((d) => (d.Population = +d.info.Population));\n",
    "\n",
    "    // Scale the range of the data in the domains\n",
    "    x_scale.domain(data.map((d) => d.Name));\n",
    "    y_scale.domain([0, d3.max(data, (d) => d.Population)]);\n",
    "\n",
    "    // append the rectangles for the bar chart\n",
    "    svg\n",
    "        .selectAll(\"rect\")\n",
    "        .data(data)\n",
    "        .join(\"rect\")\n",
    "        .attr(\"class\", \"bar\")\n",
    "        .attr(\"x\", (d) => x_scale(d.Name))\n",
    "        .attr(\"y\", (d) => y_scale(d.Population))\n",
    "        .attr(\"width\", x_scale.bandwidth())\n",
    "        .attr(\"height\", (d) => height - margin.bottom - y_scale(d.Population));\n",
    "\n",
    "    // append x axis\n",
    "    svg\n",
    "        .append(\"g\")\n",
    "        .attr(\"transform\", `translate(0,${height - margin.bottom})`)\n",
    "        .call(x_axis)\n",
    "        .selectAll(\"text\")\n",
    "        .style(\"text-anchor\", \"end\")\n",
    "        .attr(\"dx\", \"-.8em\")\n",
    "        .attr(\"dy\", \".15em\")\n",
    "        .attr(\"transform\", \"rotate(-65)\");\n",
    "\n",
    "    // add y axis\n",
    "    svg.append(\"g\").attr(\"transform\", `translate(${margin.left},0)`).call(y_axis);\n",
    "}});"
   ]
  },
  {
   "cell_type": "markdown",
   "id": "086ad528-d99b-425e-a11c-a2f85d97313e",
   "metadata": {},
   "source": [
    "![Screenshot of D3 within Jupyter](../img/htmlScriptD3.png)"
   ]
  },
  {
   "cell_type": "markdown",
   "id": "ff7c9f59-43e2-40e5-82b9-e8d119988a9a",
   "metadata": {},
   "source": [
    "# Animations\n",
    "\n",
    "Working with Animations is fairly simple with htmlScript.\n",
    "\n",
    "All that is then needed is to call `animation(yourFunction)`, and `yourFunction()` will get called each [animationFrame](https://developer.mozilla.org/en-US/docs/Web/API/window/requestAnimationFrame) so you can animate."
   ]
  },
  {
   "cell_type": "markdown",
   "id": "10f1361d-4785-45e4-b673-c9b63643dffc",
   "metadata": {},
   "source": [
    "## Simple Example\n",
    "\n",
    "For a simple example, we can just use htmlScript to render out a rectangle in HTML."
   ]
  },
  {
   "cell_type": "code",
   "execution_count": null,
   "id": "043a78cc-5bcc-4e82-a92c-a33f4fd9abea",
   "metadata": {},
   "outputs": [],
   "source": [
    "//-- lets tell this box to animate\n",
    "utils.ijs.htmlScript({\n",
    "    //-- automatically include a debugger statement\n",
    "    debug: true,\n",
    "\n",
    "    //-- initialize the root element with the following html\n",
    "    html: '<div style=\"width:50px; height: 50px; background-color: black; \"/>',\n",
    "    \n",
    "    //-- size of the cell output size / html body (inner elements still need to be sized)\n",
    "    width: 400,\n",
    "    height: 300,\n",
    "    \n",
    "    //-- size of the cell output size / html body (inner elements still need to be sized)\n",
    "    width: 400,\n",
    "    height: 400,\n",
    "    \n",
    "    //-- nodeJS functions we want to make available to JavaScript\n",
    "    utilityFunctions: {},\n",
    "    \n",
    "    //-- data from nodeJS encoded to be available in JavaScript\n",
    "    data: {},\n",
    "    \n",
    "    //-- called when all scripts are loaded, and the html element is ready\n",
    "    onReady: ({\n",
    "        //-- the root element specific for this rendering\n",
    "        rootEl\n",
    "    }) => {\n",
    "        console.log('The Black Box has ARRIVED!');\n",
    "    }\n",
    "});"
   ]
  },
  {
   "cell_type": "markdown",
   "id": "2815a1b3-2a9a-4380-97a5-3edd43bbca34",
   "metadata": {},
   "source": [
    "## Add in some Data\n",
    "\n",
    "Let's make the animation configurable by passing in the starting x and y coordinates, and how long the animation should take.\n",
    "\n",
    "```\n",
    "    //-- data from nodeJS encoded and available to onReady\n",
    "    data: {\n",
    "        centerpointX: 200,\n",
    "        centerpointY: 200,\n",
    "        radius: 100 + 50,\n",
    "        animationDuration: 10000 // milliseconds\n",
    "    },\n",
    "```"
   ]
  },
  {
   "cell_type": "markdown",
   "id": "ab09380c-c962-4290-b00c-5bdaf9491fd2",
   "metadata": {},
   "source": [
    "## Add in Utility Functions\n",
    "\n",
    "We want to have a number go between 0 to 1 every 10 seconds or so, so we use the [utils.format.timePeriodPercent](https://jupyter-ijavascript-utils.onrender.com/module-format.html#.timePeriodPercent)\n",
    "\n",
    "```\n",
    "    //-- nodeJS functions we want to make available to JavaScript\n",
    "    utilityFunctions: ({\n",
    "        //-- (numberOfMilliseconds) => {Number} - Percentage from 0 to 1 every number of milliseconds\n",
    "        //-- https://jupyter-ijavascript-utils.onrender.com/module-format.html#.timePeriodPercent\n",
    "        timePeriod: (millisecondPeriod) => {\n",
    "            const currentTime = Date.now();\n",
    "            return (currentTime % millisecondPeriod) / millisecondPeriod;\n",
    "        },\n",
    "        //-- or we could simply leverage the library function that does the same thing\n",
    "        timePeriod2: utils.format.timePeriodPercent\n",
    "    }),\n",
    "```\n",
    "\n",
    "Even though `utilityFunctions.timePeriod` is defined in Node, we a translated function will now be available in JavaScript."
   ]
  },
  {
   "cell_type": "code",
   "execution_count": null,
   "id": "0db28566-580e-4f3e-93ba-1097760310a2",
   "metadata": {},
   "outputs": [],
   "source": [
    "utils.ijs.htmlScript({\n",
    "    //-- automatically include a debugger statement\n",
    "    debug: true,\n",
    "\n",
    "    //-- initialize the root element with the following html\n",
    "    html: '<div id=\"my-box\" style=\"width:50px; height: 50px; background-color: black; position: absolute; left: 0px; right: 0px;\"/>',\n",
    "    \n",
    "    //-- size of the cell output size / html body (inner elements still need to be sized)\n",
    "    width: 400,\n",
    "    height: 400,\n",
    "    \n",
    "    //-- nodeJS functions we want to make available to JavaScript\n",
    "    utilityFunctions: ({\n",
    "        //-- (numberOfMilliseconds) => {Number} - Percentage from 0 to 1 every number of milliseconds\n",
    "        //-- https://jupyter-ijavascript-utils.onrender.com/module-format.html#.timePeriodPercent\n",
    "        timePeriod: (millisecondPeriod) => {\n",
    "            const currentTime = Date.now();\n",
    "            return (currentTime % millisecondPeriod) / millisecondPeriod;\n",
    "        },\n",
    "        //-- or we could simply leverage the library function that does the same thing\n",
    "        timePeriod2: utils.format.timePeriodPercent\n",
    "    }),\n",
    "    \n",
    "    //-- data from nodeJS encoded and available to onReady\n",
    "    data: {\n",
    "        centerPointX: 200,\n",
    "        centerPointY: 200,\n",
    "        radius: 100 + 50,\n",
    "        animationDuration: 10000 // milliseconds\n",
    "    },\n",
    "    \n",
    "    //-- called when all scripts are loaded, and the html element is ready\n",
    "    onReady: ({\n",
    "        //-- the root element specific for this rendering\n",
    "        rootEl,\n",
    "        //-- the utilityFunctions parameter - nodeJS functions available in JavaScript\n",
    "        utilityFunctions: lib,\n",
    "        //-- the data parameter\n",
    "        data,\n",
    "        //-- an function that will render on the next animation frame\n",
    "        animate\n",
    "    }) => {\n",
    "        \n",
    "        const PI2 = Math.PI + Math.PI;\n",
    "        \n",
    "        const boxEl = rootEl.querySelector('div#my-box');\n",
    "        \n",
    "        const draw = () => {\n",
    "            const animationPct = lib.timePeriod(data.animationDuration);\n",
    "            \n",
    "            //-- position the box by circling around x1 and y1\n",
    "            const newX = data.centerPointX + Math.cos(animationPct * PI2) * data.radius;\n",
    "            const newY = data.centerPointY + Math.sin(animationPct * PI2) * data.radius;\n",
    "            \n",
    "            boxEl.style.left = `${newX}px`;\n",
    "            boxEl.style.top = `${newY}px`;\n",
    "            \n",
    "            //-- calls the frame again on next animation frame\n",
    "            animate(draw);\n",
    "        }\n",
    "        \n",
    "        //-- tell it to draw the first frame\n",
    "        draw();\n",
    "    }\n",
    "})"
   ]
  },
  {
   "cell_type": "markdown",
   "id": "9eb39ff2-b613-457d-b848-ed1bc4d85e2e",
   "metadata": {},
   "source": [
    "![circle animation](../img/htmlScript_circleAnimation.gif)"
   ]
  },
  {
   "cell_type": "markdown",
   "id": "246f3665-273b-48c2-8230-e5f1ff57baaa",
   "metadata": {},
   "source": [
    "# Extending HtmlScript\n",
    "\n",
    "Since `onReady` is serialized and sent to JavaScript,\n",
    "you can send nodejs code, and it will execute in JavaScript.\n",
    "\n",
    "This can make things tricky when trying to extend it multiple times.\n",
    "\n",
    "In this case, the `onReady` function can also be passed as a string definition of the function (serialized).\n",
    "\n",
    "This means you can even extend a function leveraging HtmlScript to do even more specific things.\n",
    "\n",
    "For example, have one method to [render out a Leaflet Map](https://jupyter-ijavascript-utils.onrender.com/module-leaflet.html#.render).\n",
    "\n",
    "Then write another function that just [takes lat/lon pairs as an array to just render out markers and bypass the fluff](https://jupyter-ijavascript-utils.onrender.com/module-leaflet.html#.render)\n",
    "\n",
    "                                                                                                                        "
   ]
  },
  {
   "cell_type": "markdown",
   "id": "0a340f40-cabf-4337-b63c-26a0a583a7be",
   "metadata": {},
   "source": [
    "# Considerations:"
   ]
  },
  {
   "cell_type": "markdown",
   "id": "2872b62d-0524-4afd-aaf3-9de74e38bef0",
   "metadata": {},
   "source": [
    "## Only onReady and utilityFunctions are available in JavaScript\n",
    "\n",
    "Please remember that only the content of the functions in `utilityFunctions` and `onReady` are available in JavaScript.\n",
    "\n",
    "For example, this will fail because the `utils` nodeJS variable is referenced"
   ]
  },
  {
   "cell_type": "markdown",
   "id": "7132f0d0-b470-464a-85d3-5c259295a631",
   "metadata": {},
   "source": [
    "![Screenshot of browser inspector and error](../img/htmlScript_simpleError.jpg)"
   ]
  },
  {
   "cell_type": "markdown",
   "id": "d61adc3c-4d9d-474e-955b-c16e0b0dc08d",
   "metadata": {},
   "source": [
    "We can fix it by using `utilityFunctions` to pass the function definition\n",
    "\n",
    "![Screenshot of utility functions to save the day](../img/htmlScript_utilityFunctions.jpg)"
   ]
  },
  {
   "cell_type": "markdown",
   "id": "3918ca67-0ca6-4b64-9c19-955ff834e4cf",
   "metadata": {},
   "source": [
    "Or by using the `data` attribute to pass data.\n",
    "\n",
    "![Screenshot with data](../img/htmlScript_data.jpg)"
   ]
  },
  {
   "cell_type": "markdown",
   "id": "41819bba-34a0-4267-819b-4b7924a16da1",
   "metadata": {},
   "source": [
    "[See the Simple Failure Example for more](#Simple-Failure-Example)"
   ]
  },
  {
   "cell_type": "markdown",
   "id": "357f76f1-d967-413d-83ae-4d445d06c8f2",
   "metadata": {},
   "source": [
    "## Order of the Scripts Loaded\n",
    "\n",
    "Note that Jupyter performs DOM manipulation when executing cells.\n",
    "\n",
    "Browsers can differ, but most modern browsers (such as chrome and firefox)\n",
    "will behave differently than simply rendering html from a page load.\n",
    "\n",
    "* `<script />` tags are no longer loaded in sequenc\n",
    "  * (This means that if you load `scriptA` and `scriptB`, then `scriptB` cannot assume `scriptA` has loaded first, making dependent libraries unable to work)\n",
    "* Inline `<script />` tags can also not guarantee the scripts have finished loading.\n",
    "\n",
    "By using `htmlScript` options.scripts: [], the order the scripts are specified is the order the scripts are loaded.\n",
    "\n",
    "You can now safely use dependent libraries, and assume `scriptA` has finished loading before `scriptB` is executed. Same for inline scripts."
   ]
  },
  {
   "cell_type": "markdown",
   "id": "8e0b7c9f-ea22-4681-8d8a-8749abbc4a4a",
   "metadata": {},
   "source": [
    "## Always Load Scripts if an HtmlScript Depends on it\n",
    "\n",
    "It seems as though the scripts within Jupyter cells are not isolated,\n",
    "so you could technically load a script once,\n",
    "and then run the next htmlScript without loading the script.\n",
    "\n",
    "However, this is not recommended because you would have no guarantee that the library has finished loading before the following cells are executed.\n"
   ]
  }
 ],
 "metadata": {
  "kernelspec": {
   "display_name": "JavaScript (Node.js)",
   "language": "javascript",
   "name": "javascript"
  },
  "language_info": {
   "file_extension": ".js",
   "mimetype": "application/javascript",
   "name": "javascript",
   "version": "18.12.1"
  }
 },
 "nbformat": 4,
 "nbformat_minor": 5
}
