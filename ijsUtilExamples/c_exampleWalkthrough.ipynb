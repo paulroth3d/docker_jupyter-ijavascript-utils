{
 "cells": [
  {
   "cell_type": "markdown",
   "id": "aef9892a-6697-4a09-9a2b-533d06be976c",
   "metadata": {},
   "source": [
    "Let's say that you have a dataset that you would like to quickly understand.\n",
    "\n",
    "The point of this doc is to walk through how:\n",
    "\n",
    "* to access an example dataset\n",
    "* massage the data to something easier to work with\n",
    "* group and aggregate the data\n",
    "* display a table of the results\n",
    "* show a chart \n",
    "\n",
    "![Screenshot of Chart](../img/gapMinderLifeFertilityChart1.png)"
   ]
  },
  {
   "cell_type": "markdown",
   "id": "c068c3bf-48b8-4fc5-af61-36cc5244b01c",
   "metadata": {},
   "source": [
    "## Assumptions\n",
    "\n",
    "The [How to Use]{@tutorial howToUse} navbar tutorial talks about what [Jupyter Notebooks]() are - a REPL format that intermixes code (and or their results) with markdown/text blocks to provide context.\n",
    "\n",
    "It also talks about how to install Jupyter, and the [iJavaScript language kernel]() to provide JavaScript language support.\n",
    "\n",
    "While there are some amazing other options for using notebooks:\n",
    "\n",
    "* [ObservableHQ](https://observablehq.com) - a jupyter like experience working with javascript out of the box\n",
    "* [Visual Studio Code](https://code.visualstudio.com/docs/datascience/jupyter-notebooks) - now has direct support for Jupyter Notebooks\n",
    "...\n",
    "\n",
    "We will assume you have:\n",
    "\n",
    "* Jupyter Lab installed\n",
    "* iJavaScript kernel installed\n",
    "* npm install [jupyter-ijavascript-utils](https://www.npmjs.com/package/jupyter-ijavascript-utils) - in the directory you launched Jupyter Lab\n",
    "* Jupyter Lab running - (by running the command `Jupyter Lab`)\n",
    "\n",
    "Please see the [How to Use]{@tutorial howToUse} navbar tutorial for details."
   ]
  },
  {
   "cell_type": "markdown",
   "id": "3fcc5a12-3cf7-48e6-8386-0f63e345eb1f",
   "metadata": {},
   "source": [
    "# Require libraries in the Notebook\n",
    "\n",
    "Jupyter (unlike ObservableHQ) works in a top down order of evaluation,\n",
    "so to use the [jupyter-ijavascript-utils](https://www.npmjs.com/package/jupyter-ijavascript-utils) library,\n",
    "\n",
    "Lets include a cell at the top with our `require` statements.\n",
    "\n",
    "```\n",
    "utils = require('jupyter-ijavascript-utils');\n",
    "//-- any other imports\n",
    "\n",
    "'Libraries successfully imported';\n",
    "```\n",
    "\n",
    "![Screenshot of executed cell](../img/walkthrough_librariesImported.png)\n",
    "\n",
    "(Executing the cell, through the `▷` icon will render `Libraries successfully imported` underneath)"
   ]
  },
  {
   "cell_type": "code",
   "execution_count": null,
   "id": "6dd12b47-43e8-4c31-b97d-adb2084f5e75",
   "metadata": {},
   "outputs": [],
   "source": [
    "utils = require('jupyter-ijavascript-utils');\n",
    "//-- any other imports\n",
    "\n",
    "'Libraries successfully imported';"
   ]
  },
  {
   "cell_type": "markdown",
   "id": "3217427d-34b9-42e2-bb52-8fe2ff9d0274",
   "metadata": {},
   "source": [
    "## Variable Scope\n",
    "\n",
    "We did not use `let` or `const` when defining the variable\n",
    "\n",
    "This puts the variable in the `global` / `document` scope.\n",
    "\n",
    "You can absolutely use `let`, `const`, `var`, etc. to define your variables, but this will cause a problem if you execute your cell again at any time.\n",
    "This will throw an error as the variable cannot be redefined.\n",
    "\n",
    "![Screenshot of running the cell again](../img/walkthrough_letError.png)\n",
    "\n",
    "Another option is to use a `{}` scope block for the cell.\n",
    "\n",
    "This will not throw an error, but it will however not make the variable available for the next cell.\n",
    "\n",
    "![Screenshot of accessing a scoped variable](../img/walkthrough_scopeError.png)"
   ]
  },
  {
   "cell_type": "markdown",
   "id": "5f3d8486-4d45-4f3f-815d-8e926add4f5e",
   "metadata": {},
   "source": [
    "## Return Value of a Cell\n",
    "\n",
    "Note that we included a string at the end of the cell:\n",
    "\n",
    "```\n",
    "'Libraries successfully imported';\n",
    "```\n",
    "\n",
    "The last value accessed in a cell is by default passed as the `result` of the cell.\n",
    "\n",
    "(You can do this manually by running the command `$$.sendResult('this is the return value');`)\n",
    "\n",
    "If you do not include this statement, the iJavaScript will attempt to convert the last value to JSON,\n",
    "and this can cause quite a bit of scrolling.\n",
    "\n",
    "For cells where we care more about the `side effects` of running the cell\n",
    "(i.e. there is no result we want, Consider putting a descriptive string, and collapsing the code)"
   ]
  },
  {
   "cell_type": "markdown",
   "id": "4bd00832-8bb4-4db9-a62a-06c83e043f8c",
   "metadata": {},
   "source": [
    "# Adding in a Text Node\n",
    "\n",
    "Next lets add in a Text Node, to help us remember where our code starts:\n",
    "\n",
    "Click the `+` button in the toolbar to make a new cell.\n",
    "\n",
    "Enter the following:\n",
    "\n",
    "```\n",
    "# Gap Minder DataSet\n",
    "```\n",
    "\n",
    "This time, change the dropdown in the toolbar from `Code` to `Text`\n",
    "\n",
    "Note that the cell turns BLUE.\n",
    "\n",
    "(Executing the cell, through the `▷` icon will render the text out as a header)\n",
    "\n",
    "![Screenshot](../img/walkthrough_cellType.png)"
   ]
  },
  {
   "cell_type": "markdown",
   "id": "fd8adbfa-ff67-476c-9fc9-1aed822fb9b8",
   "metadata": {},
   "source": [
    "# Accessing a Sample Dataset\n",
    "\n",
    "The Vega team has a [Sample Datasets library](https://www.npmjs.com/package/vega-datasets)\n",
    "\n",
    "The jupyter-ijavascript-utils library references it, so you can get sample data quickly.\n",
    "\n",
    "We can see the list of the datasets available:\n"
   ]
  },
  {
   "cell_type": "code",
   "execution_count": null,
   "id": "7cf1c5d2-21e0-4197-944a-983bbceb60fd",
   "metadata": {},
   "outputs": [],
   "source": [
    "utils.datasets.list().slice(0, 5);\n",
    "\n",
    "// [\n",
    "//   'annual-precip.json',\n",
    "//   'anscombe.json',\n",
    "//   'barley.json',\n",
    "//   'budget.json',\n",
    "//   'budgets.json',\n",
    "//   'burtin.json',\n",
    "//   ...\n",
    "// ]"
   ]
  },
  {
   "cell_type": "markdown",
   "id": "4bc69431-5834-4ed5-a03c-859d2e531c10",
   "metadata": {},
   "source": [
    "The DataSet we want is the [facinating GapMinder Life Expectancy study](https://www.gapminder.org/answers/how-does-income-relate-to-life-expectancy/)"
   ]
  },
  {
   "cell_type": "code",
   "execution_count": null,
   "id": "9f569c4f-aefc-4192-8388-21b74b122dcd",
   "metadata": {},
   "outputs": [],
   "source": [
    "$$.async()\n",
    "utils.datasets.fetch('gapminder.json')\n",
    ".then(data => {\n",
    "\tgapMinder = data;\n",
    "\t$$.sendResult(`captured gap minder records: ${gapMinder.length}`);\n",
    "});"
   ]
  },
  {
   "cell_type": "markdown",
   "id": "82ecf26f-162e-4892-9923-dd8a462683d4",
   "metadata": {},
   "source": [
    "As we called `$$.async()` - the cell knows that it should pause execution for the next cell until `$$.sendResult(...)` is called.\n",
    "\n",
    "**Note** - the `utils.ijs.await` method available in the library can simplify this call, to support await."
   ]
  },
  {
   "cell_type": "code",
   "execution_count": null,
   "id": "83a59799-19f2-46a7-9ef0-691acf21ffb1",
   "metadata": {},
   "outputs": [],
   "source": [
    "//-- does the same thing as the cell above\n",
    "utils.ijs.await(async ($$, console) => {\n",
    "\tgapMinder = await utils.datasets.fetch('gapminder.json');\n",
    "    return `captured gap minder records: ${gapMinder.length}`;\n",
    "});"
   ]
  },
  {
   "cell_type": "markdown",
   "id": "f59b7594-e060-491a-bc2d-6de52e773cd9",
   "metadata": {},
   "source": [
    "See the [ijs.await()](https://jupyter-ijavascript-utils.onrender.com/module-ijs.html#.await) docs for more."
   ]
  },
  {
   "cell_type": "markdown",
   "id": "e0240e05-3e57-422f-9bf8-7cef6e880125",
   "metadata": {},
   "source": [
    "# Understanding the Data\n",
    "\n",
    "One option to understand the kinds of data is to always look at the first record:"
   ]
  },
  {
   "cell_type": "code",
   "execution_count": null,
   "id": "50bc2fae-9c09-41f6-9ffe-4cd90f8dc347",
   "metadata": {},
   "outputs": [],
   "source": [
    "gapMinder[0];\n",
    "\n",
    "// gives:\n",
    "// {\n",
    "//   year: 1955,\n",
    "//   country: 'Afghanistan',\n",
    "//   cluster: 0,\n",
    "//   pop: 8891209,\n",
    "//   life_expect: 30.332,\n",
    "//   fertility: 7.7\n",
    "// }"
   ]
  },
  {
   "cell_type": "markdown",
   "id": "974b3872-7652-4aa7-94c7-06a1be4cfbe6",
   "metadata": {},
   "source": [
    "The Utilities also include two additional methods that can help:\n",
    "\n",
    "[object.generateSchema(object | array)](https://jupyter-ijavascript-utils.onrender.com/module-object.html#.generateSchema)\n",
    "\n",
    "This generates a schema of all objects in the collection, \n",
    "and of the objects those contain (deep introspection),\n",
    "\n",
    "It tells us that there are no objects further down with additional fields, and all the fields are always populated.\n",
    "\n",
    "But this can leave a bit to be desired for the types of properties.\n"
   ]
  },
  {
   "cell_type": "code",
   "execution_count": null,
   "id": "4223f201-d49a-42b2-8606-330855b63f3f",
   "metadata": {},
   "outputs": [],
   "source": [
    "utils.object.generateSchema(gapMinder);\n",
    "\n",
    "// {\n",
    "//   '$schema': 'http://json-schema.org/draft-04/schema#',\n",
    "//   type: 'array',\n",
    "//   items: {\n",
    "//     type: 'object',\n",
    "//     properties: {\n",
    "//       year: [Object],\n",
    "//       country: [Object],\n",
    "//       cluster: [Object],\n",
    "//       pop: [Object],\n",
    "//       life_expect: [Object],\n",
    "//       fertility: [Object]\n",
    "//     },\n",
    "//     required: [ 'year', 'country', 'cluster', 'pop', 'life_expect', 'fertility' ]\n",
    "//   }\n",
    "// }"
   ]
  },
  {
   "cell_type": "markdown",
   "id": "08dd0e9c-202f-4d3b-ba2b-48c4aad1d9c9",
   "metadata": {},
   "source": [
    "[object.getObjectPropertyTypes(object / array)](https://jupyter-ijavascript-utils.onrender.com/module-object.html#.getObjectPropertyTypes)\n",
    "\n",
    "This identifies the types of properties much clearer,\n",
    "but only of the objects in the collection (shallow introspection).\n"
   ]
  },
  {
   "cell_type": "code",
   "execution_count": null,
   "id": "fc048050-3ef0-444c-af0f-d51aae403b69",
   "metadata": {},
   "outputs": [],
   "source": [
    "utils.object.getObjectPropertyTypes(gapMinder)\n",
    "\n",
    "// returns\n",
    "// Map(2) {\n",
    "//   'number' => Set(5) { 'year', 'cluster', 'pop', 'life_expect','fertility' },\n",
    "//   'string' => Set(1) { 'country' }\n",
    "// }"
   ]
  },
  {
   "cell_type": "markdown",
   "id": "cc83c853-efab-4105-8721-d5ace7e6e637",
   "metadata": {},
   "source": [
    "# Simple Aggregation\n",
    "\n",
    "A few fields come out that seem interesting:\n",
    "\n",
    "* Year (number)\n",
    "* cluster (number)\n",
    "* pop - population (number)\n",
    "* life_expect - life expectancy (number)\n",
    "* fertility - number\n",
    "* country - string\n",
    "\n",
    "I'd like to understand what kind of values are shown in cluster"
   ]
  },
  {
   "cell_type": "code",
   "execution_count": null,
   "id": "30aa68b1-8805-4f06-ac54-dc82d62ef9ce",
   "metadata": {},
   "outputs": [],
   "source": [
    "utils.aggregate.unique(gapMinder, 'cluster');\n",
    "// [ 0, 3, 4, 1, 5, 2 ]"
   ]
  },
  {
   "cell_type": "markdown",
   "id": "f355dfed-d0ed-49b3-8c53-c6d0f55dc797",
   "metadata": {},
   "source": [
    "or which countries are covered:"
   ]
  },
  {
   "cell_type": "code",
   "execution_count": null,
   "id": "d5f9329e-fb8e-4d04-acb5-6ce8d2aa6603",
   "metadata": {},
   "outputs": [],
   "source": [
    "utils.aggregate.unique(gapMinder, 'country')\n",
    "// [\n",
    "//   'Afghanistan', 'Argentina', 'Aruba',\n",
    "//   'Australia', 'Austria', 'Bahamas',\n",
    "//   ...\n",
    "// ]"
   ]
  },
  {
   "cell_type": "markdown",
   "id": "11ac0f6e-58de-473a-9f9c-ba6ec89f5c9d",
   "metadata": {},
   "source": [
    "how many countries:"
   ]
  },
  {
   "cell_type": "code",
   "execution_count": null,
   "id": "fd597bca-9f82-4478-9a67-986a57fd36d3",
   "metadata": {},
   "outputs": [],
   "source": [
    "utils.aggregate.unique(gapMinder, 'country').length\n",
    "// 63"
   ]
  },
  {
   "cell_type": "code",
   "execution_count": null,
   "id": "3b62e7c3-8cdf-4e83-9642-76772f4f6a15",
   "metadata": {},
   "outputs": [],
   "source": [
    "utils.aggregate.distinct(gapMinder, 'country');\n",
    "// 63"
   ]
  },
  {
   "cell_type": "markdown",
   "id": "6c0c6702-0680-4b60-b577-fb1824ebe17a",
   "metadata": {},
   "source": [
    "Or maybe I would like to know the extents for multiple fields:"
   ]
  },
  {
   "cell_type": "code",
   "execution_count": null,
   "id": "412d148d-01b4-4a66-b8c2-18cb32ce1c72",
   "metadata": {},
   "outputs": [],
   "source": [
    "({\n",
    "  year_range: utils.agg.extent(gapMinder, 'year'),\n",
    "  pop_range: utils.agg.extent(gapMinder, 'pop'),\n",
    "  life_expect: utils.agg.extent(gapMinder, 'life_expect'),\n",
    "  fertility: utils.agg.extent(gapMinder, 'fertility')\n",
    "});\n",
    "// returns\n",
    "// {\n",
    "//   year_range: { min: 1955, max: 2005 },\n",
    "//   pop_range: { min: 53865, max: 1303182268 },\n",
    "//   life_expect: { min: 23.599, max: 82.603 },\n",
    "//   fertility: { min: 0.94, max: 8.5 }\n",
    "// }"
   ]
  },
  {
   "cell_type": "markdown",
   "id": "9bdd874a-b217-405a-8bab-a6a9890d3ef5",
   "metadata": {},
   "source": [
    "# Group Transformations\n",
    "\n",
    "(See {@link module:aggregate} and {@link module:group.by} for more...)\n",
    "\n",
    "Let's take a closer look at the `cluster` field:\n",
    "\n",
    "[see group.by docs for more}](https://jupyter-ijavascript-utils.onrender.com/module-group.html#.by)"
   ]
  },
  {
   "cell_type": "code",
   "execution_count": null,
   "id": "55e7cc1e-c862-4dc1-a138-97a4c0d204f9",
   "metadata": {
    "scrolled": true,
    "tags": []
   },
   "outputs": [],
   "source": [
    "utils.group.by(gapMinder, 'cluster')\n",
    "    .reduce((records) => ({\n",
    "        countries: utils.agg.unique(records, 'country')\n",
    "    }));"
   ]
  },
  {
   "cell_type": "markdown",
   "id": "053a4b38-43b5-4e10-bbfb-eaae392648a9",
   "metadata": {},
   "source": [
    "it looks like they are geography regions:\n",
    "\n",
    "```\n",
    "// [\n",
    "//   {\n",
    "//     cluster: 0,\n",
    "//     countries: [ 'Afghanistan', 'Bangladesh', 'India', 'Pakistan' ]\n",
    "//   },\n",
    "//   {\n",
    "//     cluster: 3,\n",
    "//     countries: [\n",
    "//       'Argentina', 'Aruba', 'Bahamas',   'Barbados', 'Bolivia',\n",
    "//       'Brazil', 'Canada',    'Chile', 'Colombia',  'Costa Rica',\n",
    "//       'Cuba',      'Dominican Republic', 'Ecuador',   'El Salvador',\n",
    "//       'Grenada',   'Haiti', 'Jamaica',   'Mexico', 'Peru',     'United States', 'Venezuela'\n",
    "//     ]\n",
    "//   },\n",
    "//   {\n",
    "//     cluster: 4,\n",
    "//     countries: [\n",
    "//       'Australia', 'China', 'Hong Kong', 'Indonesia', 'Japan',\n",
    "//       'South Korea', 'North Korea', 'New Zealand', 'Philippines'\n",
    "//     ]\n",
    "//   },\n",
    "//   ...\n",
    "// ]\n",
    "```"
   ]
  },
  {
   "cell_type": "markdown",
   "id": "22453515-cde7-4631-81a4-0f6693fc1076",
   "metadata": {},
   "source": [
    "How many entries are there per country?\n",
    "\n",
    "Let's group by country, and the the number of records\n",
    "and then sort descending by that count\n"
   ]
  },
  {
   "cell_type": "code",
   "execution_count": null,
   "id": "6d1a249c-059a-41a8-b49e-a90706f1f4f2",
   "metadata": {},
   "outputs": [],
   "source": [
    "utils.group.by(gapMinder, 'country')\n",
    "    .reduce((records) => ({\n",
    "        count: utils.agg.length(records)\n",
    "    }))\n",
    "    .sort(utils.array.createSort('-count'));\n",
    "\n",
    "// provides\n",
    "// [\n",
    "//   { country: 'Afghanistan', count: 11 },\n",
    "//   { country: 'Argentina', count: 11 },\n",
    "//   { country: 'Aruba', count: 11 },\n",
    "//   { country: 'Australia', count: 11 },\n",
    "//   { country: 'Austria', count: 11 },\n",
    "//   ...\n",
    "// ]"
   ]
  },
  {
   "cell_type": "markdown",
   "id": "e31dc867-a9ba-4eb2-99e0-bfa76165cf27",
   "metadata": {},
   "source": [
    "Looks like they are 11 records all the way down.\n",
    "\n",
    "Just to be sure, we can wrap the results with an extent:"
   ]
  },
  {
   "cell_type": "code",
   "execution_count": null,
   "id": "35ec9e25-fab8-4ccc-8ee8-699ce6347577",
   "metadata": {},
   "outputs": [],
   "source": [
    "utils.agg.extent(\n",
    "\n",
    "//-- same query as before\n",
    "utils.group.by(gapMinder, 'country')\n",
    "    .reduce((records) => ({\n",
    "        count: utils.agg.length(records)\n",
    "    }))\n",
    "    .sort(utils.array.createSort('-count'))\n",
    "\n",
    ", 'count')\n",
    "\n",
    "// returns\n",
    "// { min: 11, max: 11 }"
   ]
  },
  {
   "cell_type": "markdown",
   "id": "a0b58ecf-3538-4803-a8bf-5b4a6b15007a",
   "metadata": {},
   "source": [
    "## Accessing Groups Halfway\n",
    "\n",
    "**Note** We can also pick halfway within a group.\n",
    "\n",
    "For example, group by country and year\n",
    "but then get the groups by year for a country\n",
    "(Say, Afghanistan)"
   ]
  },
  {
   "cell_type": "code",
   "execution_count": null,
   "id": "a8a906cf-4520-47e5-8114-d98b91d3c55a",
   "metadata": {
    "scrolled": true,
    "tags": []
   },
   "outputs": [],
   "source": [
    "utils.group.by(gapMinder, 'country', 'year')\n",
    "    .get('Afghanistan');\n",
    "\n",
    "//-- returns\n",
    "// SourceMap(11) [Map] {\n",
    "//   1955 => [\n",
    "//     {\n",
    "//       year: 1955,\n",
    "//       country: 'Afghanistan',\n",
    "//       cluster: 0,\n",
    "//       pop: 8891209,\n",
    "//       life_expect: 30.332,\n",
    "//       fertility: 7.7\n",
    "//     }\n",
    "//   ],\n",
    "//   1960 => [\n",
    "//     {\n",
    "//       year: 1960,\n",
    "//       country: 'Afghanistan',\n",
    "//       cluster: 0,\n",
    "//       pop: 9829450,\n",
    "//       life_expect: 31.997,\n",
    "//       fertility: 7.7\n",
    "//     }\n",
    "//   ],\n",
    "//   ...\n",
    "// }"
   ]
  },
  {
   "cell_type": "markdown",
   "id": "df8bef46-02e9-4906-a8e9-91cca46751aa",
   "metadata": {},
   "source": [
    "# Table\n",
    "\n",
    "I think I'm quite interested to see how the data looks for Afghanistan.\n",
    "\n",
    "Lets use the [TableGenerator](https://jupyter-ijavascript-utils.onrender.com/TableGenerator.html) to make this easier to see."
   ]
  },
  {
   "cell_type": "code",
   "execution_count": null,
   "id": "3aed9967-5374-4c62-b60a-84b7e2696178",
   "metadata": {},
   "outputs": [],
   "source": [
    "new utils.TableGenerator()\n",
    "  .data(\n",
    "    utils.group.by(gapMinder, 'country').get('Afghanistan')\n",
    "  )\n",
    "  .render()"
   ]
  },
  {
   "cell_type": "markdown",
   "id": "fe20795e-4620-49d4-8994-bf1f34383b83",
   "metadata": {},
   "source": [
    "The [TableGenerator.render](https://jupyter-ijavascript-utils.onrender.com/TableGenerator.html#render)\n",
    "will render the results right out to the Jupyter Notebook (generate as html and display it)\n",
    "\n",
    "![Screenshot of render table](../img/gapMinderAfghanistanTable.png)\n",
    "\n",
    "Note that there are a few other types of output, such as:\n",
    "\n",
    "* [renderCSV()](https://jupyter-ijavascript-utils.onrender.com/TableGenerator.html#renderCSV)\n",
    "* [renderMarkdown()](https://jupyter-ijavascript-utils.onrender.com/TableGenerator.html#renderMarkdown)\n",
    "\n",
    "Like the Markdown table shown here:\n",
    "\n",
    "year |country    |cluster|pop       |life_expect|fertility\n",
    "--   |--         |--     |--        |--         |--       \n",
    "1,955|Afghanistan|0      |8,891,209 |30.332     |7.7      \n",
    "1,960|Afghanistan|0      |9,829,450 |31.997     |7.7      \n",
    "1,965|Afghanistan|0      |10,997,885|34.02      |7.7      \n",
    "1,970|Afghanistan|0      |12,430,623|36.088     |7.7      \n",
    "1,975|Afghanistan|0      |14,132,019|38.438     |7.7      \n",
    "1,980|Afghanistan|0      |15,112,149|39.854     |7.8      \n",
    "1,985|Afghanistan|0      |13,796,928|40.822     |7.9      \n",
    "1,990|Afghanistan|0      |14,669,339|41.674     |8        \n",
    "1,995|Afghanistan|0      |20,881,480|41.763     |8        \n",
    "2,000|Afghanistan|0      |23,898,198|42.129     |7.479    \n",
    "2,005|Afghanistan|0      |29,928,987|43.828     |7.069 "
   ]
  },
  {
   "cell_type": "markdown",
   "id": "5a9da5db-1ded-4fcc-9f6e-5d0fffbf946e",
   "metadata": {},
   "source": [
    "## Styling a Table\n",
    "\n",
    "Note that we can style the table if we'd like to show when the life expectancy rises above 40 years of age\n",
    "\n",
    "* [TableGenerator.styleRow](https://jupyter-ijavascript-utils.onrender.com/TableGenerator.html#styleRow)\n",
    "* [TableGenerator.styleCell](https://jupyter-ijavascript-utils.onrender.com/TableGenerator.html#styleCell)\n",
    "\n",
    "![Screenshot of styling a table](../img/gapMinderAfghanistanStyleTable.png)"
   ]
  },
  {
   "cell_type": "code",
   "execution_count": null,
   "id": "2925e74f-9ec7-4e60-94c8-8fc1ce199d4d",
   "metadata": {},
   "outputs": [],
   "source": [
    "new utils.TableGenerator()\n",
    "  .data(\n",
    "    utils.group.by(gapMinder, 'country').get('Afghanistan')\n",
    "  )\n",
    "  .styleRow(({ record:r }) => r.life_expect > 40 ? 'background-color: #AAA' : '')\n",
    "  .styleCell(({ record, columnIndex }) =>\n",
    "        record.life_expect > 40 && columnIndex === 3 ? 'background-color: #AFA' : '')\n",
    "  .render();"
   ]
  },
  {
   "cell_type": "markdown",
   "id": "5a8e6b3c-4a05-41c3-a933-b72faff94c04",
   "metadata": {},
   "source": [
    "## Adjusting the Table\n",
    "\n",
    "While the table is helpful, lets clean it up a bit:\n",
    "\n",
    "* hide the cluster column\n",
    "* add in a new column for the continent\n",
    "* make the year render as a string - ex: 1966\n",
    "\n",
    "We'll do this through\n",
    "* [TableGenerator#data](https://jupyter-ijavascript-utils.onrender.com/TableGenerator.html#data)\n",
    "* [TableGenerator#augment](https://jupyter-ijavascript-utils.onrender.com/TableGenerator.html#augment)\n",
    "* [TableGenerator#labels](https://jupyter-ijavascript-utils.onrender.com/TableGenerator.html#labels)\n",
    "* [TableGenerator#formatter](https://jupyter-ijavascript-utils.onrender.com/TableGenerator.html#formatter)\n",
    "* [TableGenerator#columnsToExclude](https://jupyter-ijavascript-utils.onrender.com/TableGenerator.html#columnsToExclude)\n",
    "\n",
    "year|country    |population|life expectancy|fertility|continent \n",
    "--  |--         |--        |--             |--       |--        \n",
    "1955|Afghanistan|8,891,209 |30.332         |7.7      |South Asia\n",
    "1960|Afghanistan|9,829,450 |31.997         |7.7      |South Asia\n",
    "1965|Afghanistan|10,997,885|34.02          |7.7      |South Asia\n",
    "1970|Afghanistan|12,430,623|36.088         |7.7      |South Asia\n",
    "1975|Afghanistan|14,132,019|38.438         |7.7      |South Asia\n",
    "1980|Afghanistan|15,112,149|39.854         |7.8      |South Asia\n",
    "1985|Afghanistan|13,796,928|40.822         |7.9      |South Asia\n",
    "1990|Afghanistan|14,669,339|41.674         |8        |South Asia\n",
    "1995|Afghanistan|20,881,480|41.763         |8        |South Asia\n",
    "2000|Afghanistan|23,898,198|42.129         |7.479    |South Asia\n",
    "2005|Afghanistan|29,928,987|43.828         |7.069    |South Asia"
   ]
  },
  {
   "cell_type": "code",
   "execution_count": null,
   "id": "187cce47-e54e-4399-b21d-a606a2f68c7d",
   "metadata": {},
   "outputs": [],
   "source": [
    "continents = [\n",
    "  { id: 0, continent: 'South Asia' },\n",
    "  { id: 1, continent: 'Europe & Central Asias' },\n",
    "  { id: 2, continent: 'Sub-Saharan Africa' },\n",
    "  { id: 3, continent: 'Americas' },\n",
    "  { id: 4, continent: 'East Asia & Pacific' },\n",
    "  { id: 5, continent: 'Middle East & North Africa' }\n",
    "];\n",
    "clusterMap = utils.group.index(continents, 'id');\n",
    "// map of contents with the id field as the key\n",
    "\n",
    "new utils.TableGenerator()\n",
    "  .data(\n",
    "    utils.group.by(gapMinder, 'country').get('Afghanistan')\n",
    "  )\n",
    "  //-- add new field / column\n",
    "  .augment({\n",
    "    continent: (r) => clusterMap.get(r.cluster).continent\n",
    "  })\n",
    "  //-- labels\n",
    "  .labels({ pop: 'population', life_expect: 'life expectancy'})\n",
    "  //-- format a specific value, say a year to a String\n",
    "  .formatter({\n",
    "    year: (val) => String(val)\n",
    "  })\n",
    "  .columnsToExclude(['cluster'])\n",
    "  //-- or you could explicitly set the columns and order\n",
    "  // .columns(['year', 'continent', 'country', 'pop', 'life_expect', 'fertility'])\n",
    "  .render();"
   ]
  },
  {
   "cell_type": "markdown",
   "id": "c191853d-9422-4c56-a02b-71e7eb0a02f9",
   "metadata": {},
   "source": [
    "# Bake in the Continent\n",
    "\n",
    "To avoid constantly mapping the continent, lets just bake the continent right into the record.\n",
    "\n",
    "* [see group.index(collection, field) for more](https://jupyter-ijavascript-utils.onrender.com/module-group.html#.index)\n",
    "* [see object.augment(collection, fn) for more](https://jupyter-ijavascript-utils.onrender.com/module-object.html#.augment)"
   ]
  },
  {
   "cell_type": "code",
   "execution_count": null,
   "id": "1704f464-d105-4237-b6ec-b4e84ca744c2",
   "metadata": {
    "scrolled": true,
    "tags": []
   },
   "outputs": [],
   "source": [
    "continents = [\n",
    "  { id: 0, continent: 'South Asia' },\n",
    "  { id: 1, continent: 'Europe & Central Asias' },\n",
    "  { id: 2, continent: 'Sub-Saharan Africa' },\n",
    "  { id: 3, continent: 'Americas' },\n",
    "  { id: 4, continent: 'East Asia & Pacific' },\n",
    "  { id: 5, continent: 'Middle East & North Africa' }\n",
    "]\n",
    "\n",
    "clusterMap = utils.group.index(continents, 'id');\n",
    "// map of contents with the id field as the key\n",
    "\n",
    "//-- overwrite with an immutible update\n",
    "gapMinder = utils.object.augment(gapMinder, (record) => ({\n",
    "  continent: clusterMap.get(record.cluster).continent\n",
    "}));"
   ]
  },
  {
   "cell_type": "markdown",
   "id": "ccc1390a-43b7-47cb-8fd2-ea53d36871ba",
   "metadata": {},
   "source": [
    "alternatively, you can write in place"
   ]
  },
  {
   "cell_type": "code",
   "execution_count": null,
   "id": "c8d84fc9-e689-4a0a-a525-f23b0ef65bfc",
   "metadata": {
    "scrolled": true,
    "tags": []
   },
   "outputs": [],
   "source": [
    "//-- does the same thing \n",
    "utils.object.augment(gapMinder, (record) => ({\n",
    "  continent: clusterMap.get(record.cluster).continent\n",
    "}), true);"
   ]
  },
  {
   "cell_type": "markdown",
   "id": "b859d799-be37-4dbc-be75-c6bcfe161eff",
   "metadata": {},
   "source": [
    "# Charts\n",
    "\n",
    "While we can show more columns in tables,\n",
    "charts can show information much more compactly.\n",
    "\n",
    "([See the Vega module for more...](module:vega))\n",
    "\n",
    "Lets go with a common topic, life expectancy vs fertility (reproduction) rates.\n",
    "\n",
    "We would like:\n",
    "\n",
    "* x position of the point to be the Fertility Rate\n",
    "* y position to be the life expectancy\n",
    "* color to be based on the continent\n",
    "* and maybe size to show population.\n",
    "\n",
    "Note that this translates to vega fairly well...\n",
    "\n",
    "One item of note:\n",
    "\n",
    "* fieldQ - means a Quantitative (Number) field\n",
    "* fieldN - means a Nominal (Categorical / Non-Number) field\n",
    "\n",
    "![Screenshot](../img/gapMinderLifeFertilityChart1.png)"
   ]
  },
  {
   "cell_type": "code",
   "execution_count": null,
   "id": "4714c9b9-6829-4bd4-923f-f666e3d9e8ca",
   "metadata": {},
   "outputs": [],
   "source": [
    "utils.vega.svg((vl) => vl.markCircle()\n",
    "    .title('Life Expectancy vs Fertility')\n",
    "    .width(400)\n",
    "    .height(400)\n",
    "    .data(gapMinder)\n",
    "    .encode(\n",
    "        vl.x().fieldQ('fertility').title('Fertility'),\n",
    "        vl.y().fieldQ('life_expect').title('Life Expectancy'),\n",
    "        vl.size().fieldQ('pop').title('Population'),\n",
    "        vl.color().fieldN('continent').title('Continent')\n",
    "))"
   ]
  },
  {
   "cell_type": "markdown",
   "id": "b2465786-5a1b-4667-870d-7dfecb4fbca0",
   "metadata": {},
   "source": [
    "We could filter to specifically a continent directly on the data.\n",
    "\n",
    "![Screenshot](../img/gapMinderIndiaPakistan.png)"
   ]
  },
  {
   "cell_type": "code",
   "execution_count": null,
   "id": "d36738fe-f881-4576-8e6c-a098d48d9fc4",
   "metadata": {},
   "outputs": [],
   "source": [
    "utils.vega.svg((vl) => vl.markCircle()\n",
    "    .title('Life Expectancy vs Fertility')\n",
    "    .width(400)\n",
    "    .height(400)\n",
    "    .data(gapMinder.filter(r => r.country === 'India' || r.country === 'Pakistan'))\n",
    "    .encode(\n",
    "        vl.x().fieldQ('fertility').title('Fertility'),\n",
    "        vl.y().fieldQ('life_expect').title('Life Expectancy'),\n",
    "        vl.size().fieldQ('pop'),\n",
    "        vl.color().fieldN('country').title('Country')\n",
    "))"
   ]
  },
  {
   "cell_type": "markdown",
   "id": "303991e6-ac7b-4850-9ad7-b8757c7a30d2",
   "metadata": {},
   "source": [
    "# Aggregate Charts\n",
    "\n",
    "One item to note is that Vega does not allow for multiple series on the same object. (At least to my understanding)\n",
    "\n",
    "Meaning, if we have a record like the following:\n",
    "\n",
    "country           |minPopulation|maxPopulation|avgPopulation  \n",
    "--                |--           |--           |--             \n",
    "Afghanistan       |8,891,209    |29,928,987   |15,869,842.455 "
   ]
  },
  {
   "cell_type": "code",
   "execution_count": null,
   "id": "bce6e30b-2cb7-448d-a85b-51d7c740dc03",
   "metadata": {
    "scrolled": true,
    "tags": []
   },
   "outputs": [],
   "source": [
    "new utils.TableGenerator(utils.group.by(gapMinder, 'country')\n",
    "                        .reduce((records) => ({\n",
    "    minPopulation: utils.agg.min(records, 'pop'),\n",
    "    maxPopulation: utils.agg.max(records, 'pop'),\n",
    "    avgPopulation: utils.agg.avgMean(records, 'pop'),\n",
    "})))\n",
    "    .render()"
   ]
  },
  {
   "cell_type": "markdown",
   "id": "918cd145-5d3d-4795-9bbd-1ff19dcb7cdc",
   "metadata": {},
   "source": [
    "We would need to separate out to multiple records to show both the min, average and mean values.\n",
    "\n",
    "something like this:\n",
    "\n",
    "country    |_aggregateKey|_aggregateValue\n",
    "--         |--           |--             \n",
    "Afghanistan|minPopulation|8,891,209      \n",
    "Afghanistan|maxPopulation|29,928,987     \n",
    "Afghanistan|avgPopulation|15,869,842.455\n",
    "\n",
    "To achieve this, use [reduceSeparate()](https://jupyter-ijavascript-utils.onrender.com/SourceMap.html#.reduceSeparate) - rather than [reduce()](https://jupyter-ijavascript-utils.onrender.com/SourceMap.html#.reduce) as we have done so far:\n",
    "\n",
    "country           |_aggregateKey|_aggregateValue\n",
    "--                |--           |--             \n",
    "Afghanistan       |minPopulation|8,891,209      \n",
    "Afghanistan       |maxPopulation|29,928,987     \n",
    "Afghanistan       |avgPopulation|15,869,842.455 \n",
    "Argentina         |minPopulation|18,927,821     \n",
    "Argentina         |maxPopulation|39,537,943     \n",
    "Argentina         |avgPopulation|28,753,173     \n",
    "Aruba             |minPopulation|53,865         \n",
    "Aruba             |maxPopulation|71,566         \n",
    "Aruba             |avgPopulation|62,591.455"
   ]
  },
  {
   "cell_type": "code",
   "execution_count": null,
   "id": "49b60eab-6d6e-4ef0-acd6-5abcb3794dc4",
   "metadata": {
    "scrolled": true,
    "tags": []
   },
   "outputs": [],
   "source": [
    "new utils.TableGenerator(utils.group.by(gapMinder, 'country')\n",
    "                        .reduceSeparate((records) => ({\n",
    "    minPopulation: utils.agg.min(records, 'pop'),\n",
    "    maxPopulation: utils.agg.max(records, 'pop'),\n",
    "    avgPopulation: utils.agg.avgMean(records, 'pop'),\n",
    "})))\n",
    "    .render()"
   ]
  },
  {
   "cell_type": "markdown",
   "id": "bec6a5af-a527-424c-8cbd-5085d8ff847a",
   "metadata": {},
   "source": [
    "This can be done with either:\n",
    "\n",
    "* [SourceMap.reduceSeparate()](https://jupyter-ijavascript-utils.onrender.com/SourceMap.html#.reduceSeparate)\n",
    "* [group.separateByFields()](https://jupyter-ijavascript-utils.onrender.com/module-group.html#.separateByFields)"
   ]
  },
  {
   "cell_type": "markdown",
   "id": "ba642d37-bf62-4311-ad8d-963db130bf56",
   "metadata": {},
   "source": [
    "# Choropleth - Data Driven Maps\n",
    "\n",
    "A choropleth is essentially a data driven map, that changes the map in some regard based on those values.\n",
    "\n",
    "A very familiar example are the red and blue styles shading of states for US Elections,\n",
    "but can show many things such as precipitation, or heatmaps, and many other things.\n",
    "\n",
    "![svg](../img/choropleth_workingFull.svg)\n",
    "\n",
    "See the [Let's make a Data Driven Map: Choropleth](https://jupyter-ijavascript-utils.onrender.com/tutorial-vega_choroplethShort.html) on how you could build your own."
   ]
  },
  {
   "cell_type": "markdown",
   "id": "76c93109-a6a1-4a2e-9e89-ce1f71e2bbb8",
   "metadata": {},
   "source": [
    "# Further Reading\n",
    "\n",
    "[Very cool example of a chart done with Vega Lite on this topic](https://vega.github.io/vega/examples/global-development/)\n",
    "\n",
    "There are a growing list of libraries that are amazing for computational journalism, data science and others.\n",
    "\n",
    "See [this stackoverflow](https://stackoverflow.com/questions/31412537/numpy-like-package-for-node)\n",
    "for someone asking why couldn't [Numpy](https://numpy.org/doc/stable/user/quickstart.html) be written in JavaScript;\n",
    "\n",
    "## D3\n",
    "\n",
    "D3, specifically: [group / rollup](https://observablehq.com/@d3/d3-group) and [flatGroup / flatRollup](https://observablehq.com/@d3/d3-flatgroup)\n",
    "\n",
    "## DanfoJS\n",
    "[DanfoJS](https://danfo.jsdata.org/) - a js library heavily inspired by\n",
    "[Pandas](https://pandas.pydata.org/pandas-docs/stable/index.html)\n",
    "so someone familiar with Pandas can get up to speed very quickly\n",
    "\n",
    "## DataFrame-JS\n",
    "[dataframe-js](https://gmousse.gitbooks.io/dataframe-js/) -\n",
    "provides an immutable data structure for DataFrames\n",
    "which allows to work on rows and columns with a sql\n",
    "and functional programming inspired api.\n",
    "\n",
    "## StandardLib\n",
    "[StdLib](https://github.com/stdlib-js/stdlib) - \n",
    "is a great library that compiles down to C/C++ level to providespeeds comparable to Numpy.\n",
    "\n",
    "## NumJS\n",
    "[ NumJS](https://www.npmjs.com/package/numjs )\n",
    "is also a great number processing library.\n",
    "It may not be as fast as StdLib, but it can sometimes be easier touse."
   ]
  }
 ],
 "metadata": {
  "kernelspec": {
   "display_name": "JavaScript (Node.js)",
   "language": "javascript",
   "name": "javascript"
  },
  "language_info": {
   "file_extension": ".js",
   "mimetype": "application/javascript",
   "name": "javascript",
   "version": "18.12.1"
  }
 },
 "nbformat": 4,
 "nbformat_minor": 5
}
